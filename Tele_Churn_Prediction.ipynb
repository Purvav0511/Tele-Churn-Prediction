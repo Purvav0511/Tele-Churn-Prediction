{
 "cells": [
  {
   "cell_type": "code",
   "execution_count": 76,
   "metadata": {
    "id": "nFIrhARbYThq"
   },
   "outputs": [],
   "source": [
    "import numpy as np\n",
    "import pandas as pd\n",
    "import matplotlib.pyplot as plt\n",
    "import seaborn as sns\n",
    "from sklearn.metrics import classification_report\n",
    "%matplotlib inline"
   ]
  },
  {
   "cell_type": "code",
   "execution_count": 2,
   "metadata": {
    "colab": {
     "base_uri": "https://localhost:8080/",
     "height": 305
    },
    "id": "CSuQBd_rZRSF",
    "outputId": "8bb1f6b0-58cd-453d-de24-8a029289d757"
   },
   "outputs": [
    {
     "data": {
      "text/html": [
       "<div>\n",
       "<style scoped>\n",
       "    .dataframe tbody tr th:only-of-type {\n",
       "        vertical-align: middle;\n",
       "    }\n",
       "\n",
       "    .dataframe tbody tr th {\n",
       "        vertical-align: top;\n",
       "    }\n",
       "\n",
       "    .dataframe thead th {\n",
       "        text-align: right;\n",
       "    }\n",
       "</style>\n",
       "<table border=\"1\" class=\"dataframe\">\n",
       "  <thead>\n",
       "    <tr style=\"text-align: right;\">\n",
       "      <th></th>\n",
       "      <th>customerID</th>\n",
       "      <th>gender</th>\n",
       "      <th>SeniorCitizen</th>\n",
       "      <th>Partner</th>\n",
       "      <th>Dependents</th>\n",
       "      <th>tenure</th>\n",
       "      <th>PhoneService</th>\n",
       "      <th>MultipleLines</th>\n",
       "      <th>InternetService</th>\n",
       "      <th>OnlineSecurity</th>\n",
       "      <th>OnlineBackup</th>\n",
       "      <th>DeviceProtection</th>\n",
       "      <th>TechSupport</th>\n",
       "      <th>StreamingTV</th>\n",
       "      <th>StreamingMovies</th>\n",
       "      <th>Contract</th>\n",
       "      <th>PaperlessBilling</th>\n",
       "      <th>PaymentMethod</th>\n",
       "      <th>MonthlyCharges</th>\n",
       "      <th>TotalCharges</th>\n",
       "      <th>Churn</th>\n",
       "    </tr>\n",
       "  </thead>\n",
       "  <tbody>\n",
       "    <tr>\n",
       "      <th>0</th>\n",
       "      <td>7590-VHVEG</td>\n",
       "      <td>Female</td>\n",
       "      <td>0</td>\n",
       "      <td>Yes</td>\n",
       "      <td>No</td>\n",
       "      <td>1</td>\n",
       "      <td>No</td>\n",
       "      <td>No phone service</td>\n",
       "      <td>DSL</td>\n",
       "      <td>No</td>\n",
       "      <td>Yes</td>\n",
       "      <td>No</td>\n",
       "      <td>No</td>\n",
       "      <td>No</td>\n",
       "      <td>No</td>\n",
       "      <td>Month-to-month</td>\n",
       "      <td>Yes</td>\n",
       "      <td>Electronic check</td>\n",
       "      <td>29.85</td>\n",
       "      <td>29.85</td>\n",
       "      <td>No</td>\n",
       "    </tr>\n",
       "    <tr>\n",
       "      <th>1</th>\n",
       "      <td>5575-GNVDE</td>\n",
       "      <td>Male</td>\n",
       "      <td>0</td>\n",
       "      <td>No</td>\n",
       "      <td>No</td>\n",
       "      <td>34</td>\n",
       "      <td>Yes</td>\n",
       "      <td>No</td>\n",
       "      <td>DSL</td>\n",
       "      <td>Yes</td>\n",
       "      <td>No</td>\n",
       "      <td>Yes</td>\n",
       "      <td>No</td>\n",
       "      <td>No</td>\n",
       "      <td>No</td>\n",
       "      <td>One year</td>\n",
       "      <td>No</td>\n",
       "      <td>Mailed check</td>\n",
       "      <td>56.95</td>\n",
       "      <td>1889.5</td>\n",
       "      <td>No</td>\n",
       "    </tr>\n",
       "    <tr>\n",
       "      <th>2</th>\n",
       "      <td>3668-QPYBK</td>\n",
       "      <td>Male</td>\n",
       "      <td>0</td>\n",
       "      <td>No</td>\n",
       "      <td>No</td>\n",
       "      <td>2</td>\n",
       "      <td>Yes</td>\n",
       "      <td>No</td>\n",
       "      <td>DSL</td>\n",
       "      <td>Yes</td>\n",
       "      <td>Yes</td>\n",
       "      <td>No</td>\n",
       "      <td>No</td>\n",
       "      <td>No</td>\n",
       "      <td>No</td>\n",
       "      <td>Month-to-month</td>\n",
       "      <td>Yes</td>\n",
       "      <td>Mailed check</td>\n",
       "      <td>53.85</td>\n",
       "      <td>108.15</td>\n",
       "      <td>Yes</td>\n",
       "    </tr>\n",
       "    <tr>\n",
       "      <th>3</th>\n",
       "      <td>7795-CFOCW</td>\n",
       "      <td>Male</td>\n",
       "      <td>0</td>\n",
       "      <td>No</td>\n",
       "      <td>No</td>\n",
       "      <td>45</td>\n",
       "      <td>No</td>\n",
       "      <td>No phone service</td>\n",
       "      <td>DSL</td>\n",
       "      <td>Yes</td>\n",
       "      <td>No</td>\n",
       "      <td>Yes</td>\n",
       "      <td>Yes</td>\n",
       "      <td>No</td>\n",
       "      <td>No</td>\n",
       "      <td>One year</td>\n",
       "      <td>No</td>\n",
       "      <td>Bank transfer (automatic)</td>\n",
       "      <td>42.30</td>\n",
       "      <td>1840.75</td>\n",
       "      <td>No</td>\n",
       "    </tr>\n",
       "    <tr>\n",
       "      <th>4</th>\n",
       "      <td>9237-HQITU</td>\n",
       "      <td>Female</td>\n",
       "      <td>0</td>\n",
       "      <td>No</td>\n",
       "      <td>No</td>\n",
       "      <td>2</td>\n",
       "      <td>Yes</td>\n",
       "      <td>No</td>\n",
       "      <td>Fiber optic</td>\n",
       "      <td>No</td>\n",
       "      <td>No</td>\n",
       "      <td>No</td>\n",
       "      <td>No</td>\n",
       "      <td>No</td>\n",
       "      <td>No</td>\n",
       "      <td>Month-to-month</td>\n",
       "      <td>Yes</td>\n",
       "      <td>Electronic check</td>\n",
       "      <td>70.70</td>\n",
       "      <td>151.65</td>\n",
       "      <td>Yes</td>\n",
       "    </tr>\n",
       "  </tbody>\n",
       "</table>\n",
       "</div>"
      ],
      "text/plain": [
       "   customerID  gender  SeniorCitizen  ... MonthlyCharges TotalCharges  Churn\n",
       "0  7590-VHVEG  Female              0  ...          29.85        29.85     No\n",
       "1  5575-GNVDE    Male              0  ...          56.95       1889.5     No\n",
       "2  3668-QPYBK    Male              0  ...          53.85       108.15    Yes\n",
       "3  7795-CFOCW    Male              0  ...          42.30      1840.75     No\n",
       "4  9237-HQITU  Female              0  ...          70.70       151.65    Yes\n",
       "\n",
       "[5 rows x 21 columns]"
      ]
     },
     "execution_count": 2,
     "metadata": {
      "tags": []
     },
     "output_type": "execute_result"
    }
   ],
   "source": [
    "# importing the dataset\n",
    "dataset = pd.read_csv('/content/drive/MyDrive/Projects/TeleCo Churn Prediction/Telco-Customer-Churn.csv')\n",
    "dataset.head()"
   ]
  },
  {
   "cell_type": "code",
   "execution_count": 3,
   "metadata": {
    "colab": {
     "base_uri": "https://localhost:8080/"
    },
    "id": "QmfF5y9lcBDB",
    "outputId": "c11a7f93-12f2-456d-de44-b6f890361e9d"
   },
   "outputs": [
    {
     "data": {
      "text/plain": [
       "(7043, 21)"
      ]
     },
     "execution_count": 3,
     "metadata": {
      "tags": []
     },
     "output_type": "execute_result"
    }
   ],
   "source": [
    "dataset.shape"
   ]
  },
  {
   "cell_type": "code",
   "execution_count": 4,
   "metadata": {
    "colab": {
     "base_uri": "https://localhost:8080/"
    },
    "id": "m4c1JNj5cFHq",
    "outputId": "0c358344-c8bb-46a6-fb5a-cefe258272b6"
   },
   "outputs": [
    {
     "name": "stdout",
     "output_type": "stream",
     "text": [
      "<class 'pandas.core.frame.DataFrame'>\n",
      "RangeIndex: 7043 entries, 0 to 7042\n",
      "Data columns (total 21 columns):\n",
      " #   Column            Non-Null Count  Dtype  \n",
      "---  ------            --------------  -----  \n",
      " 0   customerID        7043 non-null   object \n",
      " 1   gender            7043 non-null   object \n",
      " 2   SeniorCitizen     7043 non-null   int64  \n",
      " 3   Partner           7043 non-null   object \n",
      " 4   Dependents        7043 non-null   object \n",
      " 5   tenure            7043 non-null   int64  \n",
      " 6   PhoneService      7043 non-null   object \n",
      " 7   MultipleLines     7043 non-null   object \n",
      " 8   InternetService   7043 non-null   object \n",
      " 9   OnlineSecurity    7043 non-null   object \n",
      " 10  OnlineBackup      7043 non-null   object \n",
      " 11  DeviceProtection  7043 non-null   object \n",
      " 12  TechSupport       7043 non-null   object \n",
      " 13  StreamingTV       7043 non-null   object \n",
      " 14  StreamingMovies   7043 non-null   object \n",
      " 15  Contract          7043 non-null   object \n",
      " 16  PaperlessBilling  7043 non-null   object \n",
      " 17  PaymentMethod     7043 non-null   object \n",
      " 18  MonthlyCharges    7043 non-null   float64\n",
      " 19  TotalCharges      7043 non-null   object \n",
      " 20  Churn             7043 non-null   object \n",
      "dtypes: float64(1), int64(2), object(18)\n",
      "memory usage: 1.1+ MB\n"
     ]
    }
   ],
   "source": [
    "dataset.info()"
   ]
  },
  {
   "cell_type": "code",
   "execution_count": 5,
   "metadata": {
    "colab": {
     "base_uri": "https://localhost:8080/",
     "height": 291
    },
    "id": "uS0eiu-ccLj9",
    "outputId": "d9c86d85-3dab-4fd9-fa13-96702c92f865"
   },
   "outputs": [
    {
     "data": {
      "text/html": [
       "<div>\n",
       "<style scoped>\n",
       "    .dataframe tbody tr th:only-of-type {\n",
       "        vertical-align: middle;\n",
       "    }\n",
       "\n",
       "    .dataframe tbody tr th {\n",
       "        vertical-align: top;\n",
       "    }\n",
       "\n",
       "    .dataframe thead th {\n",
       "        text-align: right;\n",
       "    }\n",
       "</style>\n",
       "<table border=\"1\" class=\"dataframe\">\n",
       "  <thead>\n",
       "    <tr style=\"text-align: right;\">\n",
       "      <th></th>\n",
       "      <th>SeniorCitizen</th>\n",
       "      <th>tenure</th>\n",
       "      <th>MonthlyCharges</th>\n",
       "    </tr>\n",
       "  </thead>\n",
       "  <tbody>\n",
       "    <tr>\n",
       "      <th>count</th>\n",
       "      <td>7043.000000</td>\n",
       "      <td>7043.000000</td>\n",
       "      <td>7043.000000</td>\n",
       "    </tr>\n",
       "    <tr>\n",
       "      <th>mean</th>\n",
       "      <td>0.162147</td>\n",
       "      <td>32.371149</td>\n",
       "      <td>64.761692</td>\n",
       "    </tr>\n",
       "    <tr>\n",
       "      <th>std</th>\n",
       "      <td>0.368612</td>\n",
       "      <td>24.559481</td>\n",
       "      <td>30.090047</td>\n",
       "    </tr>\n",
       "    <tr>\n",
       "      <th>min</th>\n",
       "      <td>0.000000</td>\n",
       "      <td>0.000000</td>\n",
       "      <td>18.250000</td>\n",
       "    </tr>\n",
       "    <tr>\n",
       "      <th>25%</th>\n",
       "      <td>0.000000</td>\n",
       "      <td>9.000000</td>\n",
       "      <td>35.500000</td>\n",
       "    </tr>\n",
       "    <tr>\n",
       "      <th>50%</th>\n",
       "      <td>0.000000</td>\n",
       "      <td>29.000000</td>\n",
       "      <td>70.350000</td>\n",
       "    </tr>\n",
       "    <tr>\n",
       "      <th>75%</th>\n",
       "      <td>0.000000</td>\n",
       "      <td>55.000000</td>\n",
       "      <td>89.850000</td>\n",
       "    </tr>\n",
       "    <tr>\n",
       "      <th>max</th>\n",
       "      <td>1.000000</td>\n",
       "      <td>72.000000</td>\n",
       "      <td>118.750000</td>\n",
       "    </tr>\n",
       "  </tbody>\n",
       "</table>\n",
       "</div>"
      ],
      "text/plain": [
       "       SeniorCitizen       tenure  MonthlyCharges\n",
       "count    7043.000000  7043.000000     7043.000000\n",
       "mean        0.162147    32.371149       64.761692\n",
       "std         0.368612    24.559481       30.090047\n",
       "min         0.000000     0.000000       18.250000\n",
       "25%         0.000000     9.000000       35.500000\n",
       "50%         0.000000    29.000000       70.350000\n",
       "75%         0.000000    55.000000       89.850000\n",
       "max         1.000000    72.000000      118.750000"
      ]
     },
     "execution_count": 5,
     "metadata": {
      "tags": []
     },
     "output_type": "execute_result"
    }
   ],
   "source": [
    "dataset.describe()"
   ]
  },
  {
   "cell_type": "code",
   "execution_count": 6,
   "metadata": {
    "colab": {
     "base_uri": "https://localhost:8080/"
    },
    "id": "z8AXLlDAcRWn",
    "outputId": "d2459cf3-232a-462c-91b9-ff113040ccb7"
   },
   "outputs": [
    {
     "data": {
      "text/plain": [
       "customerID          0\n",
       "gender              0\n",
       "SeniorCitizen       0\n",
       "Partner             0\n",
       "Dependents          0\n",
       "tenure              0\n",
       "PhoneService        0\n",
       "MultipleLines       0\n",
       "InternetService     0\n",
       "OnlineSecurity      0\n",
       "OnlineBackup        0\n",
       "DeviceProtection    0\n",
       "TechSupport         0\n",
       "StreamingTV         0\n",
       "StreamingMovies     0\n",
       "Contract            0\n",
       "PaperlessBilling    0\n",
       "PaymentMethod       0\n",
       "MonthlyCharges      0\n",
       "TotalCharges        0\n",
       "Churn               0\n",
       "dtype: int64"
      ]
     },
     "execution_count": 6,
     "metadata": {
      "tags": []
     },
     "output_type": "execute_result"
    }
   ],
   "source": [
    "dataset.isnull().sum()"
   ]
  },
  {
   "cell_type": "markdown",
   "metadata": {
    "id": "xR3q2nGpcbF5"
   },
   "source": [
    "There are no null values"
   ]
  },
  {
   "cell_type": "code",
   "execution_count": 7,
   "metadata": {
    "id": "FEF47hugcgCT"
   },
   "outputs": [],
   "source": [
    "# dropping the customerID column since it provides no useful info\n",
    "df = dataset.copy()\n",
    "df.drop(['customerID'], axis = 1, inplace = True)"
   ]
  },
  {
   "cell_type": "code",
   "execution_count": 8,
   "metadata": {
    "colab": {
     "base_uri": "https://localhost:8080/",
     "height": 470
    },
    "id": "SYZtFDS0czeV",
    "outputId": "350efd38-d1df-4eb7-a9b5-81d927aaf22a"
   },
   "outputs": [
    {
     "ename": "ValueError",
     "evalue": "ignored",
     "output_type": "error",
     "traceback": [
      "\u001b[0;31m---------------------------------------------------------------------------\u001b[0m",
      "\u001b[0;31mValueError\u001b[0m                                Traceback (most recent call last)",
      "\u001b[0;32mpandas/_libs/lib.pyx\u001b[0m in \u001b[0;36mpandas._libs.lib.maybe_convert_numeric\u001b[0;34m()\u001b[0m\n",
      "\u001b[0;31mValueError\u001b[0m: Unable to parse string \" \"",
      "\nDuring handling of the above exception, another exception occurred:\n",
      "\u001b[0;31mValueError\u001b[0m                                Traceback (most recent call last)",
      "\u001b[0;32m<ipython-input-8-d0379f7842c9>\u001b[0m in \u001b[0;36m<module>\u001b[0;34m()\u001b[0m\n\u001b[1;32m      1\u001b[0m \u001b[0;31m# converting 'TotalCharges' column to numeric as it is in object data type\u001b[0m\u001b[0;34m\u001b[0m\u001b[0;34m\u001b[0m\u001b[0;34m\u001b[0m\u001b[0m\n\u001b[0;32m----> 2\u001b[0;31m \u001b[0mpd\u001b[0m\u001b[0;34m.\u001b[0m\u001b[0mto_numeric\u001b[0m\u001b[0;34m(\u001b[0m\u001b[0mdf\u001b[0m\u001b[0;34m.\u001b[0m\u001b[0mTotalCharges\u001b[0m\u001b[0;34m)\u001b[0m\u001b[0;34m\u001b[0m\u001b[0;34m\u001b[0m\u001b[0m\n\u001b[0m",
      "\u001b[0;32m/usr/local/lib/python3.7/dist-packages/pandas/core/tools/numeric.py\u001b[0m in \u001b[0;36mto_numeric\u001b[0;34m(arg, errors, downcast)\u001b[0m\n\u001b[1;32m    151\u001b[0m         \u001b[0;32mtry\u001b[0m\u001b[0;34m:\u001b[0m\u001b[0;34m\u001b[0m\u001b[0;34m\u001b[0m\u001b[0m\n\u001b[1;32m    152\u001b[0m             values = lib.maybe_convert_numeric(\n\u001b[0;32m--> 153\u001b[0;31m                 \u001b[0mvalues\u001b[0m\u001b[0;34m,\u001b[0m \u001b[0mset\u001b[0m\u001b[0;34m(\u001b[0m\u001b[0;34m)\u001b[0m\u001b[0;34m,\u001b[0m \u001b[0mcoerce_numeric\u001b[0m\u001b[0;34m=\u001b[0m\u001b[0mcoerce_numeric\u001b[0m\u001b[0;34m\u001b[0m\u001b[0;34m\u001b[0m\u001b[0m\n\u001b[0m\u001b[1;32m    154\u001b[0m             )\n\u001b[1;32m    155\u001b[0m         \u001b[0;32mexcept\u001b[0m \u001b[0;34m(\u001b[0m\u001b[0mValueError\u001b[0m\u001b[0;34m,\u001b[0m \u001b[0mTypeError\u001b[0m\u001b[0;34m)\u001b[0m\u001b[0;34m:\u001b[0m\u001b[0;34m\u001b[0m\u001b[0;34m\u001b[0m\u001b[0m\n",
      "\u001b[0;32mpandas/_libs/lib.pyx\u001b[0m in \u001b[0;36mpandas._libs.lib.maybe_convert_numeric\u001b[0;34m()\u001b[0m\n",
      "\u001b[0;31mValueError\u001b[0m: Unable to parse string \" \" at position 488"
     ]
    }
   ],
   "source": [
    "# converting 'TotalCharges' column to numeric as it is in object data type\n",
    "pd.to_numeric(df.TotalCharges)"
   ]
  },
  {
   "cell_type": "markdown",
   "metadata": {
    "id": "BbJNNMt8dXmh"
   },
   "source": [
    "Some values seems to be not numbers but blank string"
   ]
  },
  {
   "cell_type": "code",
   "execution_count": 9,
   "metadata": {
    "colab": {
     "base_uri": "https://localhost:8080/"
    },
    "id": "MRHBKApWdUzj",
    "outputId": "12ddd99b-529d-4abd-932d-2cbd218bd389"
   },
   "outputs": [
    {
     "data": {
      "text/plain": [
       "0       False\n",
       "1       False\n",
       "2       False\n",
       "3       False\n",
       "4       False\n",
       "        ...  \n",
       "7038    False\n",
       "7039    False\n",
       "7040    False\n",
       "7041    False\n",
       "7042    False\n",
       "Name: TotalCharges, Length: 7043, dtype: bool"
      ]
     },
     "execution_count": 9,
     "metadata": {
      "tags": []
     },
     "output_type": "execute_result"
    }
   ],
   "source": [
    "pd.to_numeric(df.TotalCharges, errors = 'coerce').isnull()"
   ]
  },
  {
   "cell_type": "code",
   "execution_count": 10,
   "metadata": {
    "colab": {
     "base_uri": "https://localhost:8080/",
     "height": 555
    },
    "id": "6xFhpHIMfN5c",
    "outputId": "9b0dd0cb-d45c-49c5-b37d-3b6a9b811775"
   },
   "outputs": [
    {
     "data": {
      "text/html": [
       "<div>\n",
       "<style scoped>\n",
       "    .dataframe tbody tr th:only-of-type {\n",
       "        vertical-align: middle;\n",
       "    }\n",
       "\n",
       "    .dataframe tbody tr th {\n",
       "        vertical-align: top;\n",
       "    }\n",
       "\n",
       "    .dataframe thead th {\n",
       "        text-align: right;\n",
       "    }\n",
       "</style>\n",
       "<table border=\"1\" class=\"dataframe\">\n",
       "  <thead>\n",
       "    <tr style=\"text-align: right;\">\n",
       "      <th></th>\n",
       "      <th>gender</th>\n",
       "      <th>SeniorCitizen</th>\n",
       "      <th>Partner</th>\n",
       "      <th>Dependents</th>\n",
       "      <th>tenure</th>\n",
       "      <th>PhoneService</th>\n",
       "      <th>MultipleLines</th>\n",
       "      <th>InternetService</th>\n",
       "      <th>OnlineSecurity</th>\n",
       "      <th>OnlineBackup</th>\n",
       "      <th>DeviceProtection</th>\n",
       "      <th>TechSupport</th>\n",
       "      <th>StreamingTV</th>\n",
       "      <th>StreamingMovies</th>\n",
       "      <th>Contract</th>\n",
       "      <th>PaperlessBilling</th>\n",
       "      <th>PaymentMethod</th>\n",
       "      <th>MonthlyCharges</th>\n",
       "      <th>TotalCharges</th>\n",
       "      <th>Churn</th>\n",
       "    </tr>\n",
       "  </thead>\n",
       "  <tbody>\n",
       "    <tr>\n",
       "      <th>488</th>\n",
       "      <td>Female</td>\n",
       "      <td>0</td>\n",
       "      <td>Yes</td>\n",
       "      <td>Yes</td>\n",
       "      <td>0</td>\n",
       "      <td>No</td>\n",
       "      <td>No phone service</td>\n",
       "      <td>DSL</td>\n",
       "      <td>Yes</td>\n",
       "      <td>No</td>\n",
       "      <td>Yes</td>\n",
       "      <td>Yes</td>\n",
       "      <td>Yes</td>\n",
       "      <td>No</td>\n",
       "      <td>Two year</td>\n",
       "      <td>Yes</td>\n",
       "      <td>Bank transfer (automatic)</td>\n",
       "      <td>52.55</td>\n",
       "      <td></td>\n",
       "      <td>No</td>\n",
       "    </tr>\n",
       "    <tr>\n",
       "      <th>753</th>\n",
       "      <td>Male</td>\n",
       "      <td>0</td>\n",
       "      <td>No</td>\n",
       "      <td>Yes</td>\n",
       "      <td>0</td>\n",
       "      <td>Yes</td>\n",
       "      <td>No</td>\n",
       "      <td>No</td>\n",
       "      <td>No internet service</td>\n",
       "      <td>No internet service</td>\n",
       "      <td>No internet service</td>\n",
       "      <td>No internet service</td>\n",
       "      <td>No internet service</td>\n",
       "      <td>No internet service</td>\n",
       "      <td>Two year</td>\n",
       "      <td>No</td>\n",
       "      <td>Mailed check</td>\n",
       "      <td>20.25</td>\n",
       "      <td></td>\n",
       "      <td>No</td>\n",
       "    </tr>\n",
       "    <tr>\n",
       "      <th>936</th>\n",
       "      <td>Female</td>\n",
       "      <td>0</td>\n",
       "      <td>Yes</td>\n",
       "      <td>Yes</td>\n",
       "      <td>0</td>\n",
       "      <td>Yes</td>\n",
       "      <td>No</td>\n",
       "      <td>DSL</td>\n",
       "      <td>Yes</td>\n",
       "      <td>Yes</td>\n",
       "      <td>Yes</td>\n",
       "      <td>No</td>\n",
       "      <td>Yes</td>\n",
       "      <td>Yes</td>\n",
       "      <td>Two year</td>\n",
       "      <td>No</td>\n",
       "      <td>Mailed check</td>\n",
       "      <td>80.85</td>\n",
       "      <td></td>\n",
       "      <td>No</td>\n",
       "    </tr>\n",
       "    <tr>\n",
       "      <th>1082</th>\n",
       "      <td>Male</td>\n",
       "      <td>0</td>\n",
       "      <td>Yes</td>\n",
       "      <td>Yes</td>\n",
       "      <td>0</td>\n",
       "      <td>Yes</td>\n",
       "      <td>Yes</td>\n",
       "      <td>No</td>\n",
       "      <td>No internet service</td>\n",
       "      <td>No internet service</td>\n",
       "      <td>No internet service</td>\n",
       "      <td>No internet service</td>\n",
       "      <td>No internet service</td>\n",
       "      <td>No internet service</td>\n",
       "      <td>Two year</td>\n",
       "      <td>No</td>\n",
       "      <td>Mailed check</td>\n",
       "      <td>25.75</td>\n",
       "      <td></td>\n",
       "      <td>No</td>\n",
       "    </tr>\n",
       "    <tr>\n",
       "      <th>1340</th>\n",
       "      <td>Female</td>\n",
       "      <td>0</td>\n",
       "      <td>Yes</td>\n",
       "      <td>Yes</td>\n",
       "      <td>0</td>\n",
       "      <td>No</td>\n",
       "      <td>No phone service</td>\n",
       "      <td>DSL</td>\n",
       "      <td>Yes</td>\n",
       "      <td>Yes</td>\n",
       "      <td>Yes</td>\n",
       "      <td>Yes</td>\n",
       "      <td>Yes</td>\n",
       "      <td>No</td>\n",
       "      <td>Two year</td>\n",
       "      <td>No</td>\n",
       "      <td>Credit card (automatic)</td>\n",
       "      <td>56.05</td>\n",
       "      <td></td>\n",
       "      <td>No</td>\n",
       "    </tr>\n",
       "    <tr>\n",
       "      <th>3331</th>\n",
       "      <td>Male</td>\n",
       "      <td>0</td>\n",
       "      <td>Yes</td>\n",
       "      <td>Yes</td>\n",
       "      <td>0</td>\n",
       "      <td>Yes</td>\n",
       "      <td>No</td>\n",
       "      <td>No</td>\n",
       "      <td>No internet service</td>\n",
       "      <td>No internet service</td>\n",
       "      <td>No internet service</td>\n",
       "      <td>No internet service</td>\n",
       "      <td>No internet service</td>\n",
       "      <td>No internet service</td>\n",
       "      <td>Two year</td>\n",
       "      <td>No</td>\n",
       "      <td>Mailed check</td>\n",
       "      <td>19.85</td>\n",
       "      <td></td>\n",
       "      <td>No</td>\n",
       "    </tr>\n",
       "    <tr>\n",
       "      <th>3826</th>\n",
       "      <td>Male</td>\n",
       "      <td>0</td>\n",
       "      <td>Yes</td>\n",
       "      <td>Yes</td>\n",
       "      <td>0</td>\n",
       "      <td>Yes</td>\n",
       "      <td>Yes</td>\n",
       "      <td>No</td>\n",
       "      <td>No internet service</td>\n",
       "      <td>No internet service</td>\n",
       "      <td>No internet service</td>\n",
       "      <td>No internet service</td>\n",
       "      <td>No internet service</td>\n",
       "      <td>No internet service</td>\n",
       "      <td>Two year</td>\n",
       "      <td>No</td>\n",
       "      <td>Mailed check</td>\n",
       "      <td>25.35</td>\n",
       "      <td></td>\n",
       "      <td>No</td>\n",
       "    </tr>\n",
       "    <tr>\n",
       "      <th>4380</th>\n",
       "      <td>Female</td>\n",
       "      <td>0</td>\n",
       "      <td>Yes</td>\n",
       "      <td>Yes</td>\n",
       "      <td>0</td>\n",
       "      <td>Yes</td>\n",
       "      <td>No</td>\n",
       "      <td>No</td>\n",
       "      <td>No internet service</td>\n",
       "      <td>No internet service</td>\n",
       "      <td>No internet service</td>\n",
       "      <td>No internet service</td>\n",
       "      <td>No internet service</td>\n",
       "      <td>No internet service</td>\n",
       "      <td>Two year</td>\n",
       "      <td>No</td>\n",
       "      <td>Mailed check</td>\n",
       "      <td>20.00</td>\n",
       "      <td></td>\n",
       "      <td>No</td>\n",
       "    </tr>\n",
       "    <tr>\n",
       "      <th>5218</th>\n",
       "      <td>Male</td>\n",
       "      <td>0</td>\n",
       "      <td>Yes</td>\n",
       "      <td>Yes</td>\n",
       "      <td>0</td>\n",
       "      <td>Yes</td>\n",
       "      <td>No</td>\n",
       "      <td>No</td>\n",
       "      <td>No internet service</td>\n",
       "      <td>No internet service</td>\n",
       "      <td>No internet service</td>\n",
       "      <td>No internet service</td>\n",
       "      <td>No internet service</td>\n",
       "      <td>No internet service</td>\n",
       "      <td>One year</td>\n",
       "      <td>Yes</td>\n",
       "      <td>Mailed check</td>\n",
       "      <td>19.70</td>\n",
       "      <td></td>\n",
       "      <td>No</td>\n",
       "    </tr>\n",
       "    <tr>\n",
       "      <th>6670</th>\n",
       "      <td>Female</td>\n",
       "      <td>0</td>\n",
       "      <td>Yes</td>\n",
       "      <td>Yes</td>\n",
       "      <td>0</td>\n",
       "      <td>Yes</td>\n",
       "      <td>Yes</td>\n",
       "      <td>DSL</td>\n",
       "      <td>No</td>\n",
       "      <td>Yes</td>\n",
       "      <td>Yes</td>\n",
       "      <td>Yes</td>\n",
       "      <td>Yes</td>\n",
       "      <td>No</td>\n",
       "      <td>Two year</td>\n",
       "      <td>No</td>\n",
       "      <td>Mailed check</td>\n",
       "      <td>73.35</td>\n",
       "      <td></td>\n",
       "      <td>No</td>\n",
       "    </tr>\n",
       "    <tr>\n",
       "      <th>6754</th>\n",
       "      <td>Male</td>\n",
       "      <td>0</td>\n",
       "      <td>No</td>\n",
       "      <td>Yes</td>\n",
       "      <td>0</td>\n",
       "      <td>Yes</td>\n",
       "      <td>Yes</td>\n",
       "      <td>DSL</td>\n",
       "      <td>Yes</td>\n",
       "      <td>Yes</td>\n",
       "      <td>No</td>\n",
       "      <td>Yes</td>\n",
       "      <td>No</td>\n",
       "      <td>No</td>\n",
       "      <td>Two year</td>\n",
       "      <td>Yes</td>\n",
       "      <td>Bank transfer (automatic)</td>\n",
       "      <td>61.90</td>\n",
       "      <td></td>\n",
       "      <td>No</td>\n",
       "    </tr>\n",
       "  </tbody>\n",
       "</table>\n",
       "</div>"
      ],
      "text/plain": [
       "      gender  SeniorCitizen Partner  ... MonthlyCharges  TotalCharges Churn\n",
       "488   Female              0     Yes  ...          52.55                  No\n",
       "753     Male              0      No  ...          20.25                  No\n",
       "936   Female              0     Yes  ...          80.85                  No\n",
       "1082    Male              0     Yes  ...          25.75                  No\n",
       "1340  Female              0     Yes  ...          56.05                  No\n",
       "3331    Male              0     Yes  ...          19.85                  No\n",
       "3826    Male              0     Yes  ...          25.35                  No\n",
       "4380  Female              0     Yes  ...          20.00                  No\n",
       "5218    Male              0     Yes  ...          19.70                  No\n",
       "6670  Female              0     Yes  ...          73.35                  No\n",
       "6754    Male              0      No  ...          61.90                  No\n",
       "\n",
       "[11 rows x 20 columns]"
      ]
     },
     "execution_count": 10,
     "metadata": {
      "tags": []
     },
     "output_type": "execute_result"
    }
   ],
   "source": [
    "df[pd.to_numeric(df.TotalCharges, errors = 'coerce').isnull()]"
   ]
  },
  {
   "cell_type": "code",
   "execution_count": 11,
   "metadata": {
    "colab": {
     "base_uri": "https://localhost:8080/"
    },
    "id": "XUc6CbZEdV_r",
    "outputId": "e166ea02-0659-4335-d696-462a7edbbc86"
   },
   "outputs": [
    {
     "data": {
      "text/plain": [
       "(7043, 20)"
      ]
     },
     "execution_count": 11,
     "metadata": {
      "tags": []
     },
     "output_type": "execute_result"
    }
   ],
   "source": [
    "df.shape"
   ]
  },
  {
   "cell_type": "code",
   "execution_count": 12,
   "metadata": {
    "colab": {
     "base_uri": "https://localhost:8080/"
    },
    "id": "L5a4tsMtfnaP",
    "outputId": "560ec3ad-2b1d-4537-eabc-c1f89e6c2993"
   },
   "outputs": [
    {
     "data": {
      "text/plain": [
       "(7032, 20)"
      ]
     },
     "execution_count": 12,
     "metadata": {
      "tags": []
     },
     "output_type": "execute_result"
    }
   ],
   "source": [
    "df[df.TotalCharges != ' '].shape"
   ]
  },
  {
   "cell_type": "code",
   "execution_count": 13,
   "metadata": {
    "colab": {
     "base_uri": "https://localhost:8080/"
    },
    "id": "E3qO8UJffuRG",
    "outputId": "8bf0180e-b578-4989-bc8a-ffb8f65e1006"
   },
   "outputs": [
    {
     "data": {
      "text/plain": [
       "(7032, 20)"
      ]
     },
     "execution_count": 13,
     "metadata": {
      "tags": []
     },
     "output_type": "execute_result"
    }
   ],
   "source": [
    "# dropping the rows where TotalCharges value is null\n",
    "df1 = df[df.TotalCharges != ' ']\n",
    "df1.shape"
   ]
  },
  {
   "cell_type": "code",
   "execution_count": 14,
   "metadata": {
    "colab": {
     "base_uri": "https://localhost:8080/"
    },
    "id": "RzdNBBLfggyj",
    "outputId": "1319540e-bcf0-4e73-a855-e06bf4959c5b"
   },
   "outputs": [
    {
     "data": {
      "text/plain": [
       "gender               object\n",
       "SeniorCitizen         int64\n",
       "Partner              object\n",
       "Dependents           object\n",
       "tenure                int64\n",
       "PhoneService         object\n",
       "MultipleLines        object\n",
       "InternetService      object\n",
       "OnlineSecurity       object\n",
       "OnlineBackup         object\n",
       "DeviceProtection     object\n",
       "TechSupport          object\n",
       "StreamingTV          object\n",
       "StreamingMovies      object\n",
       "Contract             object\n",
       "PaperlessBilling     object\n",
       "PaymentMethod        object\n",
       "MonthlyCharges      float64\n",
       "TotalCharges         object\n",
       "Churn                object\n",
       "dtype: object"
      ]
     },
     "execution_count": 14,
     "metadata": {
      "tags": []
     },
     "output_type": "execute_result"
    }
   ],
   "source": [
    "df1.dtypes"
   ]
  },
  {
   "cell_type": "markdown",
   "metadata": {
    "id": "W8tae3k88R0i"
   },
   "source": [
    "**Visualising The Data**"
   ]
  },
  {
   "cell_type": "code",
   "execution_count": 15,
   "metadata": {
    "colab": {
     "base_uri": "https://localhost:8080/",
     "height": 368
    },
    "id": "oI4TwN8GlZw3",
    "outputId": "5d371955-0ef9-4a42-9d94-71e09aa0f33f"
   },
   "outputs": [
    {
     "name": "stderr",
     "output_type": "stream",
     "text": [
      "/usr/local/lib/python3.7/dist-packages/numpy/core/_asarray.py:83: VisibleDeprecationWarning: Creating an ndarray from ragged nested sequences (which is a list-or-tuple of lists-or-tuples-or ndarrays with different lengths or shapes) is deprecated. If you meant to do this, you must specify 'dtype=object' when creating the ndarray\n",
      "  return array(a, dtype, copy=False, order=order)\n"
     ]
    },
    {
     "data": {
      "text/plain": [
       "<matplotlib.legend.Legend at 0x7fe5c3317650>"
      ]
     },
     "execution_count": 15,
     "metadata": {
      "tags": []
     },
     "output_type": "execute_result"
    },
    {
     "data": {
      "image/png": "[encoded data removed]",
      "text/plain": [
       "<Figure size 432x288 with 1 Axes>"
      ]
     },
     "metadata": {
      "needs_background": "light",
      "tags": []
     },
     "output_type": "display_data"
    }
   ],
   "source": [
    "# visualising the tenure with number of customers\n",
    "tenure_churn_no = df1[df1.Churn == 'No'].tenure\n",
    "tenure_churn_yes = df1[df1.Churn == 'Yes'].tenure\n",
    "\n",
    "plt.xlabel('tenure')\n",
    "plt.ylabel('Number of Customers')\n",
    "plt.title(\"Customer Churn Prediction Visualization\")\n",
    "\n",
    "plt.hist([tenure_churn_yes, tenure_churn_no], rwidth = 0.95, color = ['green', 'red'], label = ['Churn = Yes', 'Churn = No'])\n",
    "plt.legend()"
   ]
  },
  {
   "cell_type": "markdown",
   "metadata": {
    "id": "BStQwqGJmzQy"
   },
   "source": [
    "So, we can see that, people having high tenure are less likely to leave"
   ]
  },
  {
   "cell_type": "code",
   "execution_count": 16,
   "metadata": {
    "colab": {
     "base_uri": "https://localhost:8080/",
     "height": 368
    },
    "id": "33HV8DWmmeCw",
    "outputId": "a53889ed-2f08-4a1d-bf8d-c0515c1b4a4d"
   },
   "outputs": [
    {
     "name": "stderr",
     "output_type": "stream",
     "text": [
      "/usr/local/lib/python3.7/dist-packages/numpy/core/_asarray.py:83: VisibleDeprecationWarning: Creating an ndarray from ragged nested sequences (which is a list-or-tuple of lists-or-tuples-or ndarrays with different lengths or shapes) is deprecated. If you meant to do this, you must specify 'dtype=object' when creating the ndarray\n",
      "  return array(a, dtype, copy=False, order=order)\n"
     ]
    },
    {
     "data": {
      "text/plain": [
       "<matplotlib.legend.Legend at 0x7fe5c3225a50>"
      ]
     },
     "execution_count": 16,
     "metadata": {
      "tags": []
     },
     "output_type": "execute_result"
    },
    {
     "data": {
      "image/png": "[encoded data removed]",
      "text/plain": [
       "<Figure size 432x288 with 1 Axes>"
      ]
     },
     "metadata": {
      "needs_background": "light",
      "tags": []
     },
     "output_type": "display_data"
    }
   ],
   "source": [
    "mc_churn_no = df1[df1.Churn == 'No'].MonthlyCharges\n",
    "mc_churn_yes = df1[df1.Churn == 'Yes'].MonthlyCharges\n",
    "\n",
    "plt.xlabel('Monthly Charges')\n",
    "plt.ylabel('Number of Customers')\n",
    "plt.title(\"Customer Churn Prediction Visualization\")\n",
    "\n",
    "plt.hist([mc_churn_yes, mc_churn_no], rwidth = 0.95, color = ['green', 'red'], label = ['Churn = Yes', 'Churn = No'])\n",
    "plt.legend()"
   ]
  },
  {
   "cell_type": "markdown",
   "metadata": {
    "id": "zeruyn1Dmvh9"
   },
   "source": [
    "So, we can see that, persons having high monthly charges are more likely to leave"
   ]
  },
  {
   "cell_type": "markdown",
   "metadata": {
    "id": "rLEannzZ9M17"
   },
   "source": [
    "**Data Preprocessing**"
   ]
  },
  {
   "cell_type": "code",
   "execution_count": 17,
   "metadata": {
    "id": "dLwzr9RhmXXc"
   },
   "outputs": [],
   "source": [
    "# printing the unique values in each column\n",
    "def print_unique_col_values(df):\n",
    "  for column in df:\n",
    "    if df[column].dtype == 'object':\n",
    "      print(f'{column}: {df[column].unique()}')"
   ]
  },
  {
   "cell_type": "code",
   "execution_count": 18,
   "metadata": {
    "colab": {
     "base_uri": "https://localhost:8080/"
    },
    "id": "NigBCpdbUoNZ",
    "outputId": "1785a6a9-8427-4e8d-ed62-6d3bfbf27b67"
   },
   "outputs": [
    {
     "name": "stdout",
     "output_type": "stream",
     "text": [
      "gender: ['Female' 'Male']\n",
      "Partner: ['Yes' 'No']\n",
      "Dependents: ['No' 'Yes']\n",
      "PhoneService: ['No' 'Yes']\n",
      "MultipleLines: ['No phone service' 'No' 'Yes']\n",
      "InternetService: ['DSL' 'Fiber optic' 'No']\n",
      "OnlineSecurity: ['No' 'Yes' 'No internet service']\n",
      "OnlineBackup: ['Yes' 'No' 'No internet service']\n",
      "DeviceProtection: ['No' 'Yes' 'No internet service']\n",
      "TechSupport: ['No' 'Yes' 'No internet service']\n",
      "StreamingTV: ['No' 'Yes' 'No internet service']\n",
      "StreamingMovies: ['No' 'Yes' 'No internet service']\n",
      "Contract: ['Month-to-month' 'One year' 'Two year']\n",
      "PaperlessBilling: ['Yes' 'No']\n",
      "PaymentMethod: ['Electronic check' 'Mailed check' 'Bank transfer (automatic)'\n",
      " 'Credit card (automatic)']\n",
      "TotalCharges: ['29.85' '1889.5' '108.15' ... '346.45' '306.6' '6844.5']\n",
      "Churn: ['No' 'Yes']\n"
     ]
    }
   ],
   "source": [
    "print_unique_col_values(df1)"
   ]
  },
  {
   "cell_type": "markdown",
   "metadata": {
    "id": "lixxs2uLYMDZ"
   },
   "source": [
    "**Convert Yes and No to 1 or 0**"
   ]
  },
  {
   "cell_type": "code",
   "execution_count": 19,
   "metadata": {
    "colab": {
     "base_uri": "https://localhost:8080/"
    },
    "id": "ssOB_wKXU2up",
    "outputId": "71bddea4-f359-4a0e-a1ff-bdc0075c46b8"
   },
   "outputs": [
    {
     "name": "stderr",
     "output_type": "stream",
     "text": [
      "/usr/local/lib/python3.7/dist-packages/pandas/core/frame.py:4389: SettingWithCopyWarning: \n",
      "A value is trying to be set on a copy of a slice from a DataFrame\n",
      "\n",
      "See the caveats in the documentation: https://pandas.pydata.org/pandas-docs/stable/user_guide/indexing.html#returning-a-view-versus-a-copy\n",
      "  method=method,\n"
     ]
    }
   ],
   "source": [
    "# the values such as 'No internet service' and 'No phone service' are considered as 'No'\n",
    "# so converting these values to 'No'\n",
    "df1.replace('No internet service', 'No', inplace = True)\n",
    "df1.replace('No phone service', 'No', inplace = True)"
   ]
  },
  {
   "cell_type": "code",
   "execution_count": 20,
   "metadata": {
    "colab": {
     "base_uri": "https://localhost:8080/"
    },
    "id": "KMLfmEs1VcDm",
    "outputId": "8824b537-f5be-4a1e-c9d6-5cb559825910"
   },
   "outputs": [
    {
     "name": "stdout",
     "output_type": "stream",
     "text": [
      "gender: ['Female' 'Male']\n",
      "Partner: ['Yes' 'No']\n",
      "Dependents: ['No' 'Yes']\n",
      "PhoneService: ['No' 'Yes']\n",
      "MultipleLines: ['No' 'Yes']\n",
      "InternetService: ['DSL' 'Fiber optic' 'No']\n",
      "OnlineSecurity: ['No' 'Yes']\n",
      "OnlineBackup: ['Yes' 'No']\n",
      "DeviceProtection: ['No' 'Yes']\n",
      "TechSupport: ['No' 'Yes']\n",
      "StreamingTV: ['No' 'Yes']\n",
      "StreamingMovies: ['No' 'Yes']\n",
      "Contract: ['Month-to-month' 'One year' 'Two year']\n",
      "PaperlessBilling: ['Yes' 'No']\n",
      "PaymentMethod: ['Electronic check' 'Mailed check' 'Bank transfer (automatic)'\n",
      " 'Credit card (automatic)']\n",
      "TotalCharges: ['29.85' '1889.5' '108.15' ... '346.45' '306.6' '6844.5']\n",
      "Churn: ['No' 'Yes']\n"
     ]
    }
   ],
   "source": [
    "print_unique_col_values(df1)"
   ]
  },
  {
   "cell_type": "code",
   "execution_count": 21,
   "metadata": {
    "colab": {
     "base_uri": "https://localhost:8080/"
    },
    "id": "SRqJTcO1VlkE",
    "outputId": "997bbabf-e27c-4496-f67c-9b0706bf8f91"
   },
   "outputs": [
    {
     "name": "stderr",
     "output_type": "stream",
     "text": [
      "/usr/local/lib/python3.7/dist-packages/pandas/core/series.py:4582: SettingWithCopyWarning: \n",
      "A value is trying to be set on a copy of a slice from a DataFrame\n",
      "\n",
      "See the caveats in the documentation: https://pandas.pydata.org/pandas-docs/stable/user_guide/indexing.html#returning-a-view-versus-a-copy\n",
      "  method=method,\n"
     ]
    }
   ],
   "source": [
    "yes_no_columns = ['Partner', 'Dependents', 'PhoneService', 'MultipleLines', 'OnlineSecurity', 'OnlineBackup', 'DeviceProtection', 'TechSupport', 'StreamingTV', 'StreamingMovies', 'PaperlessBilling', 'Churn']\n",
    "for column in yes_no_columns:\n",
    "  df1[column].replace({'Yes': 1, 'No': 0}, inplace = True)"
   ]
  },
  {
   "cell_type": "code",
   "execution_count": 22,
   "metadata": {
    "colab": {
     "base_uri": "https://localhost:8080/"
    },
    "id": "6_KNXDObXPt1",
    "outputId": "5aa68666-c8d9-45b4-dbe9-b003e4973014"
   },
   "outputs": [
    {
     "name": "stdout",
     "output_type": "stream",
     "text": [
      "gender: ['Female' 'Male']\n",
      "SeniorCitizen: [0 1]\n",
      "Partner: [1 0]\n",
      "Dependents: [0 1]\n",
      "tenure: [ 1 34  2 45  8 22 10 28 62 13 16 58 49 25 69 52 71 21 12 30 47 72 17 27\n",
      "  5 46 11 70 63 43 15 60 18 66  9  3 31 50 64 56  7 42 35 48 29 65 38 68\n",
      " 32 55 37 36 41  6  4 33 67 23 57 61 14 20 53 40 59 24 44 19 54 51 26 39]\n",
      "PhoneService: [0 1]\n",
      "MultipleLines: [0 1]\n",
      "InternetService: ['DSL' 'Fiber optic' 'No']\n",
      "OnlineSecurity: [0 1]\n",
      "OnlineBackup: [1 0]\n",
      "DeviceProtection: [0 1]\n",
      "TechSupport: [0 1]\n",
      "StreamingTV: [0 1]\n",
      "StreamingMovies: [0 1]\n",
      "Contract: ['Month-to-month' 'One year' 'Two year']\n",
      "PaperlessBilling: [1 0]\n",
      "PaymentMethod: ['Electronic check' 'Mailed check' 'Bank transfer (automatic)'\n",
      " 'Credit card (automatic)']\n",
      "MonthlyCharges: [29.85 56.95 53.85 ... 63.1  44.2  78.7 ]\n",
      "TotalCharges: ['29.85' '1889.5' '108.15' ... '346.45' '306.6' '6844.5']\n",
      "Churn: [0 1]\n"
     ]
    }
   ],
   "source": [
    "for col in df1:\n",
    "  print(f'{col}: {df1[col].unique()}')"
   ]
  },
  {
   "cell_type": "code",
   "execution_count": 23,
   "metadata": {
    "colab": {
     "base_uri": "https://localhost:8080/"
    },
    "id": "jp7Ju4wUXkpZ",
    "outputId": "d0f0077b-4c4e-43b3-eae9-b88b80e48892"
   },
   "outputs": [
    {
     "name": "stderr",
     "output_type": "stream",
     "text": [
      "/usr/local/lib/python3.7/dist-packages/pandas/core/series.py:4582: SettingWithCopyWarning: \n",
      "A value is trying to be set on a copy of a slice from a DataFrame\n",
      "\n",
      "See the caveats in the documentation: https://pandas.pydata.org/pandas-docs/stable/user_guide/indexing.html#returning-a-view-versus-a-copy\n",
      "  method=method,\n"
     ]
    }
   ],
   "source": [
    "# converting Male to 0 and Female ot 1\n",
    "df1['gender'].replace({'Female': 1, 'Male': 0}, inplace = True)"
   ]
  },
  {
   "cell_type": "code",
   "execution_count": 24,
   "metadata": {
    "colab": {
     "base_uri": "https://localhost:8080/"
    },
    "id": "Srhhj4xIXxzO",
    "outputId": "4b3f5406-3adb-4b01-e8e7-3ee839ea7674"
   },
   "outputs": [
    {
     "data": {
      "text/plain": [
       "array([1, 0])"
      ]
     },
     "execution_count": 24,
     "metadata": {
      "tags": []
     },
     "output_type": "execute_result"
    }
   ],
   "source": [
    "df1['gender'].unique()"
   ]
  },
  {
   "cell_type": "markdown",
   "metadata": {
    "id": "U0_bCT7fYYyU"
   },
   "source": [
    "**One hot encoding for categorical columns**"
   ]
  },
  {
   "cell_type": "code",
   "execution_count": 25,
   "metadata": {
    "colab": {
     "base_uri": "https://localhost:8080/"
    },
    "id": "thCyjPG6YeiA",
    "outputId": "452b70d0-36ac-46f7-af8d-e9920286fcc1"
   },
   "outputs": [
    {
     "data": {
      "text/plain": [
       "Index(['gender', 'SeniorCitizen', 'Partner', 'Dependents', 'tenure',\n",
       "       'PhoneService', 'MultipleLines', 'OnlineSecurity', 'OnlineBackup',\n",
       "       'DeviceProtection', 'TechSupport', 'StreamingTV', 'StreamingMovies',\n",
       "       'PaperlessBilling', 'MonthlyCharges', 'TotalCharges', 'Churn',\n",
       "       'InternetService_DSL', 'InternetService_Fiber optic',\n",
       "       'InternetService_No', 'Contract_Month-to-month', 'Contract_One year',\n",
       "       'Contract_Two year', 'PaymentMethod_Bank transfer (automatic)',\n",
       "       'PaymentMethod_Credit card (automatic)',\n",
       "       'PaymentMethod_Electronic check', 'PaymentMethod_Mailed check'],\n",
       "      dtype='object')"
      ]
     },
     "execution_count": 25,
     "metadata": {
      "tags": []
     },
     "output_type": "execute_result"
    }
   ],
   "source": [
    "df2 = pd.get_dummies(data = df1, columns = ['InternetService', 'Contract', 'PaymentMethod'])\n",
    "df2.columns"
   ]
  },
  {
   "cell_type": "code",
   "execution_count": 26,
   "metadata": {
    "colab": {
     "base_uri": "https://localhost:8080/"
    },
    "id": "Pd4gML21ZKQW",
    "outputId": "345631e4-d0b9-4805-b735-5a45ae402494"
   },
   "outputs": [
    {
     "data": {
      "text/plain": [
       "gender                                       int64\n",
       "SeniorCitizen                                int64\n",
       "Partner                                      int64\n",
       "Dependents                                   int64\n",
       "tenure                                       int64\n",
       "PhoneService                                 int64\n",
       "MultipleLines                                int64\n",
       "OnlineSecurity                               int64\n",
       "OnlineBackup                                 int64\n",
       "DeviceProtection                             int64\n",
       "TechSupport                                  int64\n",
       "StreamingTV                                  int64\n",
       "StreamingMovies                              int64\n",
       "PaperlessBilling                             int64\n",
       "MonthlyCharges                             float64\n",
       "TotalCharges                                object\n",
       "Churn                                        int64\n",
       "InternetService_DSL                          uint8\n",
       "InternetService_Fiber optic                  uint8\n",
       "InternetService_No                           uint8\n",
       "Contract_Month-to-month                      uint8\n",
       "Contract_One year                            uint8\n",
       "Contract_Two year                            uint8\n",
       "PaymentMethod_Bank transfer (automatic)      uint8\n",
       "PaymentMethod_Credit card (automatic)        uint8\n",
       "PaymentMethod_Electronic check               uint8\n",
       "PaymentMethod_Mailed check                   uint8\n",
       "dtype: object"
      ]
     },
     "execution_count": 26,
     "metadata": {
      "tags": []
     },
     "output_type": "execute_result"
    }
   ],
   "source": [
    "df2.dtypes"
   ]
  },
  {
   "cell_type": "code",
   "execution_count": 27,
   "metadata": {
    "id": "vvnjfOafZcgV"
   },
   "outputs": [],
   "source": [
    "df2.TotalCharges = pd.to_numeric(df2.TotalCharges)"
   ]
  },
  {
   "cell_type": "code",
   "execution_count": 28,
   "metadata": {
    "colab": {
     "base_uri": "https://localhost:8080/"
    },
    "id": "ZNQyccdKZlK5",
    "outputId": "023e66e6-fd9c-4f94-c516-9fcaaf336513"
   },
   "outputs": [
    {
     "data": {
      "text/plain": [
       "dtype('float64')"
      ]
     },
     "execution_count": 28,
     "metadata": {
      "tags": []
     },
     "output_type": "execute_result"
    }
   ],
   "source": [
    "df2.TotalCharges.dtype"
   ]
  },
  {
   "cell_type": "code",
   "execution_count": 29,
   "metadata": {
    "colab": {
     "base_uri": "https://localhost:8080/",
     "height": 254
    },
    "id": "F_zeT2LaZp89",
    "outputId": "68c635f0-ad16-4cd9-bc48-66cc632f1c25"
   },
   "outputs": [
    {
     "data": {
      "text/html": [
       "<div>\n",
       "<style scoped>\n",
       "    .dataframe tbody tr th:only-of-type {\n",
       "        vertical-align: middle;\n",
       "    }\n",
       "\n",
       "    .dataframe tbody tr th {\n",
       "        vertical-align: top;\n",
       "    }\n",
       "\n",
       "    .dataframe thead th {\n",
       "        text-align: right;\n",
       "    }\n",
       "</style>\n",
       "<table border=\"1\" class=\"dataframe\">\n",
       "  <thead>\n",
       "    <tr style=\"text-align: right;\">\n",
       "      <th></th>\n",
       "      <th>gender</th>\n",
       "      <th>SeniorCitizen</th>\n",
       "      <th>Partner</th>\n",
       "      <th>Dependents</th>\n",
       "      <th>tenure</th>\n",
       "      <th>PhoneService</th>\n",
       "      <th>MultipleLines</th>\n",
       "      <th>OnlineSecurity</th>\n",
       "      <th>OnlineBackup</th>\n",
       "      <th>DeviceProtection</th>\n",
       "      <th>TechSupport</th>\n",
       "      <th>StreamingTV</th>\n",
       "      <th>StreamingMovies</th>\n",
       "      <th>PaperlessBilling</th>\n",
       "      <th>MonthlyCharges</th>\n",
       "      <th>TotalCharges</th>\n",
       "      <th>Churn</th>\n",
       "      <th>InternetService_DSL</th>\n",
       "      <th>InternetService_Fiber optic</th>\n",
       "      <th>InternetService_No</th>\n",
       "      <th>Contract_Month-to-month</th>\n",
       "      <th>Contract_One year</th>\n",
       "      <th>Contract_Two year</th>\n",
       "      <th>PaymentMethod_Bank transfer (automatic)</th>\n",
       "      <th>PaymentMethod_Credit card (automatic)</th>\n",
       "      <th>PaymentMethod_Electronic check</th>\n",
       "      <th>PaymentMethod_Mailed check</th>\n",
       "    </tr>\n",
       "  </thead>\n",
       "  <tbody>\n",
       "    <tr>\n",
       "      <th>0</th>\n",
       "      <td>1</td>\n",
       "      <td>0</td>\n",
       "      <td>1</td>\n",
       "      <td>0</td>\n",
       "      <td>1</td>\n",
       "      <td>0</td>\n",
       "      <td>0</td>\n",
       "      <td>0</td>\n",
       "      <td>1</td>\n",
       "      <td>0</td>\n",
       "      <td>0</td>\n",
       "      <td>0</td>\n",
       "      <td>0</td>\n",
       "      <td>1</td>\n",
       "      <td>29.85</td>\n",
       "      <td>29.85</td>\n",
       "      <td>0</td>\n",
       "      <td>1</td>\n",
       "      <td>0</td>\n",
       "      <td>0</td>\n",
       "      <td>1</td>\n",
       "      <td>0</td>\n",
       "      <td>0</td>\n",
       "      <td>0</td>\n",
       "      <td>0</td>\n",
       "      <td>1</td>\n",
       "      <td>0</td>\n",
       "    </tr>\n",
       "    <tr>\n",
       "      <th>1</th>\n",
       "      <td>0</td>\n",
       "      <td>0</td>\n",
       "      <td>0</td>\n",
       "      <td>0</td>\n",
       "      <td>34</td>\n",
       "      <td>1</td>\n",
       "      <td>0</td>\n",
       "      <td>1</td>\n",
       "      <td>0</td>\n",
       "      <td>1</td>\n",
       "      <td>0</td>\n",
       "      <td>0</td>\n",
       "      <td>0</td>\n",
       "      <td>0</td>\n",
       "      <td>56.95</td>\n",
       "      <td>1889.50</td>\n",
       "      <td>0</td>\n",
       "      <td>1</td>\n",
       "      <td>0</td>\n",
       "      <td>0</td>\n",
       "      <td>0</td>\n",
       "      <td>1</td>\n",
       "      <td>0</td>\n",
       "      <td>0</td>\n",
       "      <td>0</td>\n",
       "      <td>0</td>\n",
       "      <td>1</td>\n",
       "    </tr>\n",
       "    <tr>\n",
       "      <th>2</th>\n",
       "      <td>0</td>\n",
       "      <td>0</td>\n",
       "      <td>0</td>\n",
       "      <td>0</td>\n",
       "      <td>2</td>\n",
       "      <td>1</td>\n",
       "      <td>0</td>\n",
       "      <td>1</td>\n",
       "      <td>1</td>\n",
       "      <td>0</td>\n",
       "      <td>0</td>\n",
       "      <td>0</td>\n",
       "      <td>0</td>\n",
       "      <td>1</td>\n",
       "      <td>53.85</td>\n",
       "      <td>108.15</td>\n",
       "      <td>1</td>\n",
       "      <td>1</td>\n",
       "      <td>0</td>\n",
       "      <td>0</td>\n",
       "      <td>1</td>\n",
       "      <td>0</td>\n",
       "      <td>0</td>\n",
       "      <td>0</td>\n",
       "      <td>0</td>\n",
       "      <td>0</td>\n",
       "      <td>1</td>\n",
       "    </tr>\n",
       "    <tr>\n",
       "      <th>3</th>\n",
       "      <td>0</td>\n",
       "      <td>0</td>\n",
       "      <td>0</td>\n",
       "      <td>0</td>\n",
       "      <td>45</td>\n",
       "      <td>0</td>\n",
       "      <td>0</td>\n",
       "      <td>1</td>\n",
       "      <td>0</td>\n",
       "      <td>1</td>\n",
       "      <td>1</td>\n",
       "      <td>0</td>\n",
       "      <td>0</td>\n",
       "      <td>0</td>\n",
       "      <td>42.30</td>\n",
       "      <td>1840.75</td>\n",
       "      <td>0</td>\n",
       "      <td>1</td>\n",
       "      <td>0</td>\n",
       "      <td>0</td>\n",
       "      <td>0</td>\n",
       "      <td>1</td>\n",
       "      <td>0</td>\n",
       "      <td>1</td>\n",
       "      <td>0</td>\n",
       "      <td>0</td>\n",
       "      <td>0</td>\n",
       "    </tr>\n",
       "    <tr>\n",
       "      <th>4</th>\n",
       "      <td>1</td>\n",
       "      <td>0</td>\n",
       "      <td>0</td>\n",
       "      <td>0</td>\n",
       "      <td>2</td>\n",
       "      <td>1</td>\n",
       "      <td>0</td>\n",
       "      <td>0</td>\n",
       "      <td>0</td>\n",
       "      <td>0</td>\n",
       "      <td>0</td>\n",
       "      <td>0</td>\n",
       "      <td>0</td>\n",
       "      <td>1</td>\n",
       "      <td>70.70</td>\n",
       "      <td>151.65</td>\n",
       "      <td>1</td>\n",
       "      <td>0</td>\n",
       "      <td>1</td>\n",
       "      <td>0</td>\n",
       "      <td>1</td>\n",
       "      <td>0</td>\n",
       "      <td>0</td>\n",
       "      <td>0</td>\n",
       "      <td>0</td>\n",
       "      <td>1</td>\n",
       "      <td>0</td>\n",
       "    </tr>\n",
       "  </tbody>\n",
       "</table>\n",
       "</div>"
      ],
      "text/plain": [
       "   gender  ...  PaymentMethod_Mailed check\n",
       "0       1  ...                           0\n",
       "1       0  ...                           1\n",
       "2       0  ...                           1\n",
       "3       0  ...                           0\n",
       "4       1  ...                           0\n",
       "\n",
       "[5 rows x 27 columns]"
      ]
     },
     "execution_count": 29,
     "metadata": {
      "tags": []
     },
     "output_type": "execute_result"
    }
   ],
   "source": [
    "df2.head()"
   ]
  },
  {
   "cell_type": "markdown",
   "metadata": {
    "id": "iv0vaNCrZ2XO"
   },
   "source": [
    "**Scaling the values of tenure, MonthlyCharges, TotalCharges**"
   ]
  },
  {
   "cell_type": "code",
   "execution_count": 30,
   "metadata": {
    "id": "PPu4ZXr4aF4G"
   },
   "outputs": [],
   "source": [
    "col_scale = ['tenure', 'MonthlyCharges', 'TotalCharges']\n",
    "\n",
    "from sklearn.preprocessing import MinMaxScaler\n",
    "scaler = MinMaxScaler()\n",
    "df2[col_scale] = scaler.fit_transform(df2[col_scale])"
   ]
  },
  {
   "cell_type": "code",
   "execution_count": 31,
   "metadata": {
    "colab": {
     "base_uri": "https://localhost:8080/",
     "height": 254
    },
    "id": "hc4Fu5-ianJ0",
    "outputId": "7c3bb9a4-c8c6-45f7-85ef-236be8a28542"
   },
   "outputs": [
    {
     "data": {
      "text/html": [
       "<div>\n",
       "<style scoped>\n",
       "    .dataframe tbody tr th:only-of-type {\n",
       "        vertical-align: middle;\n",
       "    }\n",
       "\n",
       "    .dataframe tbody tr th {\n",
       "        vertical-align: top;\n",
       "    }\n",
       "\n",
       "    .dataframe thead th {\n",
       "        text-align: right;\n",
       "    }\n",
       "</style>\n",
       "<table border=\"1\" class=\"dataframe\">\n",
       "  <thead>\n",
       "    <tr style=\"text-align: right;\">\n",
       "      <th></th>\n",
       "      <th>gender</th>\n",
       "      <th>SeniorCitizen</th>\n",
       "      <th>Partner</th>\n",
       "      <th>Dependents</th>\n",
       "      <th>tenure</th>\n",
       "      <th>PhoneService</th>\n",
       "      <th>MultipleLines</th>\n",
       "      <th>OnlineSecurity</th>\n",
       "      <th>OnlineBackup</th>\n",
       "      <th>DeviceProtection</th>\n",
       "      <th>TechSupport</th>\n",
       "      <th>StreamingTV</th>\n",
       "      <th>StreamingMovies</th>\n",
       "      <th>PaperlessBilling</th>\n",
       "      <th>MonthlyCharges</th>\n",
       "      <th>TotalCharges</th>\n",
       "      <th>Churn</th>\n",
       "      <th>InternetService_DSL</th>\n",
       "      <th>InternetService_Fiber optic</th>\n",
       "      <th>InternetService_No</th>\n",
       "      <th>Contract_Month-to-month</th>\n",
       "      <th>Contract_One year</th>\n",
       "      <th>Contract_Two year</th>\n",
       "      <th>PaymentMethod_Bank transfer (automatic)</th>\n",
       "      <th>PaymentMethod_Credit card (automatic)</th>\n",
       "      <th>PaymentMethod_Electronic check</th>\n",
       "      <th>PaymentMethod_Mailed check</th>\n",
       "    </tr>\n",
       "  </thead>\n",
       "  <tbody>\n",
       "    <tr>\n",
       "      <th>0</th>\n",
       "      <td>1</td>\n",
       "      <td>0</td>\n",
       "      <td>1</td>\n",
       "      <td>0</td>\n",
       "      <td>0.000000</td>\n",
       "      <td>0</td>\n",
       "      <td>0</td>\n",
       "      <td>0</td>\n",
       "      <td>1</td>\n",
       "      <td>0</td>\n",
       "      <td>0</td>\n",
       "      <td>0</td>\n",
       "      <td>0</td>\n",
       "      <td>1</td>\n",
       "      <td>0.115423</td>\n",
       "      <td>0.001275</td>\n",
       "      <td>0</td>\n",
       "      <td>1</td>\n",
       "      <td>0</td>\n",
       "      <td>0</td>\n",
       "      <td>1</td>\n",
       "      <td>0</td>\n",
       "      <td>0</td>\n",
       "      <td>0</td>\n",
       "      <td>0</td>\n",
       "      <td>1</td>\n",
       "      <td>0</td>\n",
       "    </tr>\n",
       "    <tr>\n",
       "      <th>1</th>\n",
       "      <td>0</td>\n",
       "      <td>0</td>\n",
       "      <td>0</td>\n",
       "      <td>0</td>\n",
       "      <td>0.464789</td>\n",
       "      <td>1</td>\n",
       "      <td>0</td>\n",
       "      <td>1</td>\n",
       "      <td>0</td>\n",
       "      <td>1</td>\n",
       "      <td>0</td>\n",
       "      <td>0</td>\n",
       "      <td>0</td>\n",
       "      <td>0</td>\n",
       "      <td>0.385075</td>\n",
       "      <td>0.215867</td>\n",
       "      <td>0</td>\n",
       "      <td>1</td>\n",
       "      <td>0</td>\n",
       "      <td>0</td>\n",
       "      <td>0</td>\n",
       "      <td>1</td>\n",
       "      <td>0</td>\n",
       "      <td>0</td>\n",
       "      <td>0</td>\n",
       "      <td>0</td>\n",
       "      <td>1</td>\n",
       "    </tr>\n",
       "    <tr>\n",
       "      <th>2</th>\n",
       "      <td>0</td>\n",
       "      <td>0</td>\n",
       "      <td>0</td>\n",
       "      <td>0</td>\n",
       "      <td>0.014085</td>\n",
       "      <td>1</td>\n",
       "      <td>0</td>\n",
       "      <td>1</td>\n",
       "      <td>1</td>\n",
       "      <td>0</td>\n",
       "      <td>0</td>\n",
       "      <td>0</td>\n",
       "      <td>0</td>\n",
       "      <td>1</td>\n",
       "      <td>0.354229</td>\n",
       "      <td>0.010310</td>\n",
       "      <td>1</td>\n",
       "      <td>1</td>\n",
       "      <td>0</td>\n",
       "      <td>0</td>\n",
       "      <td>1</td>\n",
       "      <td>0</td>\n",
       "      <td>0</td>\n",
       "      <td>0</td>\n",
       "      <td>0</td>\n",
       "      <td>0</td>\n",
       "      <td>1</td>\n",
       "    </tr>\n",
       "    <tr>\n",
       "      <th>3</th>\n",
       "      <td>0</td>\n",
       "      <td>0</td>\n",
       "      <td>0</td>\n",
       "      <td>0</td>\n",
       "      <td>0.619718</td>\n",
       "      <td>0</td>\n",
       "      <td>0</td>\n",
       "      <td>1</td>\n",
       "      <td>0</td>\n",
       "      <td>1</td>\n",
       "      <td>1</td>\n",
       "      <td>0</td>\n",
       "      <td>0</td>\n",
       "      <td>0</td>\n",
       "      <td>0.239303</td>\n",
       "      <td>0.210241</td>\n",
       "      <td>0</td>\n",
       "      <td>1</td>\n",
       "      <td>0</td>\n",
       "      <td>0</td>\n",
       "      <td>0</td>\n",
       "      <td>1</td>\n",
       "      <td>0</td>\n",
       "      <td>1</td>\n",
       "      <td>0</td>\n",
       "      <td>0</td>\n",
       "      <td>0</td>\n",
       "    </tr>\n",
       "    <tr>\n",
       "      <th>4</th>\n",
       "      <td>1</td>\n",
       "      <td>0</td>\n",
       "      <td>0</td>\n",
       "      <td>0</td>\n",
       "      <td>0.014085</td>\n",
       "      <td>1</td>\n",
       "      <td>0</td>\n",
       "      <td>0</td>\n",
       "      <td>0</td>\n",
       "      <td>0</td>\n",
       "      <td>0</td>\n",
       "      <td>0</td>\n",
       "      <td>0</td>\n",
       "      <td>1</td>\n",
       "      <td>0.521891</td>\n",
       "      <td>0.015330</td>\n",
       "      <td>1</td>\n",
       "      <td>0</td>\n",
       "      <td>1</td>\n",
       "      <td>0</td>\n",
       "      <td>1</td>\n",
       "      <td>0</td>\n",
       "      <td>0</td>\n",
       "      <td>0</td>\n",
       "      <td>0</td>\n",
       "      <td>1</td>\n",
       "      <td>0</td>\n",
       "    </tr>\n",
       "  </tbody>\n",
       "</table>\n",
       "</div>"
      ],
      "text/plain": [
       "   gender  ...  PaymentMethod_Mailed check\n",
       "0       1  ...                           0\n",
       "1       0  ...                           1\n",
       "2       0  ...                           1\n",
       "3       0  ...                           0\n",
       "4       1  ...                           0\n",
       "\n",
       "[5 rows x 27 columns]"
      ]
     },
     "execution_count": 31,
     "metadata": {
      "tags": []
     },
     "output_type": "execute_result"
    }
   ],
   "source": [
    "df2.head()"
   ]
  },
  {
   "cell_type": "markdown",
   "metadata": {
    "id": "yi7AENH_UzF-"
   },
   "source": [
    "**X dataset contains all the feature needed to predict the output**\n",
    "\n",
    "**y contains the output data**"
   ]
  },
  {
   "cell_type": "code",
   "execution_count": 32,
   "metadata": {
    "id": "SwZzPn3_RjxI"
   },
   "outputs": [],
   "source": [
    "X = df2.drop('Churn', axis = 1)\n",
    "y = df2['Churn']"
   ]
  },
  {
   "cell_type": "markdown",
   "metadata": {
    "id": "k1OFL14pVQf6"
   },
   "source": [
    "**Train Test Split**"
   ]
  },
  {
   "cell_type": "code",
   "execution_count": 33,
   "metadata": {
    "id": "npGzxWq6Rdkh"
   },
   "outputs": [],
   "source": [
    "from sklearn.model_selection import train_test_split\n",
    "X_train, X_test, y_train, y_test = train_test_split(X, y, test_size=0.3, random_state=15)"
   ]
  },
  {
   "cell_type": "code",
   "execution_count": 34,
   "metadata": {
    "id": "ZfU1UKKAR958"
   },
   "outputs": [],
   "source": [
    "import tensorflow as tf\n",
    "from tensorflow import keras"
   ]
  },
  {
   "cell_type": "markdown",
   "metadata": {
    "id": "2bs9hEhXVgjN"
   },
   "source": [
    "**Model implementation**"
   ]
  },
  {
   "cell_type": "code",
   "execution_count": 35,
   "metadata": {
    "colab": {
     "base_uri": "https://localhost:8080/"
    },
    "id": "Kbp5AWNbbsxt",
    "outputId": "47cad976-56a2-41d9-eac3-8ae0964c8091"
   },
   "outputs": [
    {
     "name": "stdout",
     "output_type": "stream",
     "text": [
      "Model: \"sequential\"\n",
      "_________________________________________________________________\n",
      "Layer (type)                 Output Shape              Param #   \n",
      "=================================================================\n",
      "dense (Dense)                (None, 26)                702       \n",
      "_________________________________________________________________\n",
      "dense_1 (Dense)              (None, 15)                405       \n",
      "_________________________________________________________________\n",
      "dense_2 (Dense)              (None, 1)                 16        \n",
      "=================================================================\n",
      "Total params: 1,123\n",
      "Trainable params: 1,123\n",
      "Non-trainable params: 0\n",
      "_________________________________________________________________\n"
     ]
    }
   ],
   "source": [
    "model = keras.Sequential([\n",
    "    keras.layers.Dense(26, input_shape=(26,), activation='relu'),\n",
    "    keras.layers.Dense(15, activation='relu'),\n",
    "    keras.layers.Dense(1, activation='sigmoid')\n",
    "])\n",
    "\n",
    "model.summary()"
   ]
  },
  {
   "cell_type": "code",
   "execution_count": 36,
   "metadata": {
    "id": "7QP6KMK-SOCv"
   },
   "outputs": [],
   "source": [
    "# opt = keras.optimizers.Adam(learning_rate=0.01)\n",
    "model.compile(optimizer='adam',\n",
    "              loss='binary_crossentropy',\n",
    "              metrics=['accuracy'])"
   ]
  },
  {
   "cell_type": "markdown",
   "metadata": {
    "id": "ZuFqDYmaVmqm"
   },
   "source": [
    "**Training the Model**"
   ]
  },
  {
   "cell_type": "code",
   "execution_count": 37,
   "metadata": {
    "colab": {
     "base_uri": "https://localhost:8080/"
    },
    "id": "5M0NB-ynSs8E",
    "outputId": "fe1cad75-d6c8-4de5-f20e-3bf0cf63475f"
   },
   "outputs": [
    {
     "name": "stdout",
     "output_type": "stream",
     "text": [
      "Epoch 1/100\n",
      "79/79 [==============================] - 4s 11ms/step - loss: 0.6358 - accuracy: 0.6266 - val_loss: 0.4971 - val_accuracy: 0.7431\n",
      "Epoch 2/100\n",
      "79/79 [==============================] - 0s 4ms/step - loss: 0.4753 - accuracy: 0.7648 - val_loss: 0.4535 - val_accuracy: 0.7655\n",
      "Epoch 3/100\n",
      "79/79 [==============================] - 0s 4ms/step - loss: 0.4267 - accuracy: 0.7960 - val_loss: 0.4474 - val_accuracy: 0.7787\n",
      "Epoch 4/100\n",
      "79/79 [==============================] - 0s 4ms/step - loss: 0.4343 - accuracy: 0.7967 - val_loss: 0.4445 - val_accuracy: 0.7736\n",
      "Epoch 5/100\n",
      "79/79 [==============================] - 0s 4ms/step - loss: 0.4186 - accuracy: 0.8018 - val_loss: 0.4409 - val_accuracy: 0.7797\n",
      "Epoch 6/100\n",
      "79/79 [==============================] - 0s 4ms/step - loss: 0.4176 - accuracy: 0.8020 - val_loss: 0.4427 - val_accuracy: 0.7858\n",
      "Epoch 7/100\n",
      "79/79 [==============================] - 0s 4ms/step - loss: 0.4168 - accuracy: 0.7979 - val_loss: 0.4388 - val_accuracy: 0.7878\n",
      "Epoch 8/100\n",
      "79/79 [==============================] - 0s 4ms/step - loss: 0.4093 - accuracy: 0.8092 - val_loss: 0.4397 - val_accuracy: 0.7888\n",
      "Epoch 9/100\n",
      "79/79 [==============================] - 0s 4ms/step - loss: 0.4231 - accuracy: 0.7985 - val_loss: 0.4390 - val_accuracy: 0.7898\n",
      "Epoch 10/100\n",
      "79/79 [==============================] - 0s 4ms/step - loss: 0.4053 - accuracy: 0.8149 - val_loss: 0.4365 - val_accuracy: 0.7838\n",
      "Epoch 11/100\n",
      "79/79 [==============================] - 0s 4ms/step - loss: 0.4104 - accuracy: 0.8006 - val_loss: 0.4362 - val_accuracy: 0.7827\n",
      "Epoch 12/100\n",
      "79/79 [==============================] - 0s 4ms/step - loss: 0.3972 - accuracy: 0.8135 - val_loss: 0.4355 - val_accuracy: 0.7929\n",
      "Epoch 13/100\n",
      "79/79 [==============================] - 0s 4ms/step - loss: 0.4149 - accuracy: 0.8093 - val_loss: 0.4369 - val_accuracy: 0.7919\n",
      "Epoch 14/100\n",
      "79/79 [==============================] - 0s 4ms/step - loss: 0.4048 - accuracy: 0.8053 - val_loss: 0.4333 - val_accuracy: 0.7929\n",
      "Epoch 15/100\n",
      "79/79 [==============================] - 0s 4ms/step - loss: 0.4047 - accuracy: 0.8120 - val_loss: 0.4340 - val_accuracy: 0.7990\n",
      "Epoch 16/100\n",
      "79/79 [==============================] - 0s 4ms/step - loss: 0.4071 - accuracy: 0.8106 - val_loss: 0.4322 - val_accuracy: 0.7949\n",
      "Epoch 17/100\n",
      "79/79 [==============================] - 0s 4ms/step - loss: 0.4108 - accuracy: 0.8015 - val_loss: 0.4326 - val_accuracy: 0.7959\n",
      "Epoch 18/100\n",
      "79/79 [==============================] - 0s 4ms/step - loss: 0.4023 - accuracy: 0.8135 - val_loss: 0.4320 - val_accuracy: 0.7878\n",
      "Epoch 19/100\n",
      "79/79 [==============================] - 0s 4ms/step - loss: 0.4002 - accuracy: 0.8134 - val_loss: 0.4333 - val_accuracy: 0.7807\n",
      "Epoch 20/100\n",
      "79/79 [==============================] - 0s 4ms/step - loss: 0.4084 - accuracy: 0.8094 - val_loss: 0.4313 - val_accuracy: 0.7939\n",
      "Epoch 21/100\n",
      "79/79 [==============================] - 0s 4ms/step - loss: 0.3943 - accuracy: 0.8207 - val_loss: 0.4323 - val_accuracy: 0.7868\n",
      "Epoch 22/100\n",
      "79/79 [==============================] - 0s 4ms/step - loss: 0.4002 - accuracy: 0.8038 - val_loss: 0.4326 - val_accuracy: 0.7939\n",
      "Epoch 23/100\n",
      "79/79 [==============================] - 0s 4ms/step - loss: 0.4030 - accuracy: 0.8059 - val_loss: 0.4318 - val_accuracy: 0.7888\n",
      "Epoch 24/100\n",
      "79/79 [==============================] - 0s 4ms/step - loss: 0.3862 - accuracy: 0.8208 - val_loss: 0.4310 - val_accuracy: 0.7909\n",
      "Epoch 25/100\n",
      "79/79 [==============================] - 0s 4ms/step - loss: 0.4018 - accuracy: 0.8202 - val_loss: 0.4326 - val_accuracy: 0.7898\n",
      "Epoch 26/100\n",
      "79/79 [==============================] - 0s 4ms/step - loss: 0.3933 - accuracy: 0.8151 - val_loss: 0.4316 - val_accuracy: 0.7909\n",
      "Epoch 27/100\n",
      "79/79 [==============================] - 0s 4ms/step - loss: 0.3987 - accuracy: 0.8140 - val_loss: 0.4325 - val_accuracy: 0.7888\n",
      "Epoch 28/100\n",
      "79/79 [==============================] - 0s 4ms/step - loss: 0.3947 - accuracy: 0.8173 - val_loss: 0.4315 - val_accuracy: 0.7909\n",
      "Epoch 29/100\n",
      "79/79 [==============================] - 0s 4ms/step - loss: 0.3951 - accuracy: 0.8162 - val_loss: 0.4340 - val_accuracy: 0.7878\n",
      "Epoch 30/100\n",
      "79/79 [==============================] - 0s 4ms/step - loss: 0.3968 - accuracy: 0.8171 - val_loss: 0.4353 - val_accuracy: 0.7888\n",
      "Epoch 31/100\n",
      "79/79 [==============================] - 0s 4ms/step - loss: 0.3831 - accuracy: 0.8221 - val_loss: 0.4343 - val_accuracy: 0.7868\n",
      "Epoch 32/100\n",
      "79/79 [==============================] - 0s 5ms/step - loss: 0.3922 - accuracy: 0.8171 - val_loss: 0.4324 - val_accuracy: 0.7909\n",
      "Epoch 33/100\n",
      "79/79 [==============================] - 0s 4ms/step - loss: 0.3911 - accuracy: 0.8139 - val_loss: 0.4334 - val_accuracy: 0.7909\n",
      "Epoch 34/100\n",
      "79/79 [==============================] - 0s 4ms/step - loss: 0.3793 - accuracy: 0.8200 - val_loss: 0.4339 - val_accuracy: 0.7878\n",
      "Epoch 35/100\n",
      "79/79 [==============================] - 0s 4ms/step - loss: 0.3827 - accuracy: 0.8244 - val_loss: 0.4346 - val_accuracy: 0.7868\n",
      "Epoch 36/100\n",
      "79/79 [==============================] - 0s 4ms/step - loss: 0.3831 - accuracy: 0.8235 - val_loss: 0.4337 - val_accuracy: 0.7827\n",
      "Epoch 37/100\n",
      "79/79 [==============================] - 0s 4ms/step - loss: 0.3946 - accuracy: 0.8160 - val_loss: 0.4364 - val_accuracy: 0.7848\n",
      "Epoch 38/100\n",
      "79/79 [==============================] - 0s 4ms/step - loss: 0.3946 - accuracy: 0.8184 - val_loss: 0.4396 - val_accuracy: 0.7827\n",
      "Epoch 39/100\n",
      "79/79 [==============================] - 0s 4ms/step - loss: 0.3854 - accuracy: 0.8225 - val_loss: 0.4364 - val_accuracy: 0.7807\n",
      "Epoch 40/100\n",
      "79/79 [==============================] - 0s 4ms/step - loss: 0.3842 - accuracy: 0.8236 - val_loss: 0.4363 - val_accuracy: 0.7838\n",
      "Epoch 41/100\n",
      "79/79 [==============================] - 0s 4ms/step - loss: 0.3801 - accuracy: 0.8212 - val_loss: 0.4365 - val_accuracy: 0.7827\n",
      "Epoch 42/100\n",
      "79/79 [==============================] - 0s 4ms/step - loss: 0.3797 - accuracy: 0.8272 - val_loss: 0.4384 - val_accuracy: 0.7807\n",
      "Epoch 43/100\n",
      "79/79 [==============================] - 0s 4ms/step - loss: 0.3897 - accuracy: 0.8173 - val_loss: 0.4378 - val_accuracy: 0.7838\n",
      "Epoch 44/100\n",
      "79/79 [==============================] - 0s 4ms/step - loss: 0.3727 - accuracy: 0.8304 - val_loss: 0.4383 - val_accuracy: 0.7797\n",
      "Epoch 45/100\n",
      "79/79 [==============================] - 0s 4ms/step - loss: 0.3801 - accuracy: 0.8217 - val_loss: 0.4389 - val_accuracy: 0.7807\n",
      "Epoch 46/100\n",
      "79/79 [==============================] - 0s 4ms/step - loss: 0.3894 - accuracy: 0.8284 - val_loss: 0.4383 - val_accuracy: 0.7787\n",
      "Epoch 47/100\n",
      "79/79 [==============================] - 0s 4ms/step - loss: 0.3743 - accuracy: 0.8193 - val_loss: 0.4393 - val_accuracy: 0.7807\n",
      "Epoch 48/100\n",
      "79/79 [==============================] - 0s 4ms/step - loss: 0.3767 - accuracy: 0.8366 - val_loss: 0.4376 - val_accuracy: 0.7736\n",
      "Epoch 49/100\n",
      "79/79 [==============================] - 0s 4ms/step - loss: 0.3620 - accuracy: 0.8398 - val_loss: 0.4435 - val_accuracy: 0.7787\n",
      "Epoch 50/100\n",
      "79/79 [==============================] - 0s 4ms/step - loss: 0.3952 - accuracy: 0.8195 - val_loss: 0.4416 - val_accuracy: 0.7807\n",
      "Epoch 51/100\n",
      "79/79 [==============================] - 0s 4ms/step - loss: 0.3843 - accuracy: 0.8206 - val_loss: 0.4428 - val_accuracy: 0.7787\n",
      "Epoch 52/100\n",
      "79/79 [==============================] - 0s 4ms/step - loss: 0.3818 - accuracy: 0.8219 - val_loss: 0.4458 - val_accuracy: 0.7746\n",
      "Epoch 53/100\n",
      "79/79 [==============================] - 0s 4ms/step - loss: 0.3937 - accuracy: 0.8150 - val_loss: 0.4431 - val_accuracy: 0.7756\n",
      "Epoch 54/100\n",
      "79/79 [==============================] - 0s 4ms/step - loss: 0.3686 - accuracy: 0.8286 - val_loss: 0.4415 - val_accuracy: 0.7756\n",
      "Epoch 55/100\n",
      "79/79 [==============================] - 0s 4ms/step - loss: 0.3695 - accuracy: 0.8223 - val_loss: 0.4412 - val_accuracy: 0.7797\n",
      "Epoch 56/100\n",
      "79/79 [==============================] - 0s 4ms/step - loss: 0.3614 - accuracy: 0.8317 - val_loss: 0.4417 - val_accuracy: 0.7777\n",
      "Epoch 57/100\n",
      "79/79 [==============================] - 0s 4ms/step - loss: 0.3645 - accuracy: 0.8248 - val_loss: 0.4424 - val_accuracy: 0.7756\n",
      "Epoch 58/100\n",
      "79/79 [==============================] - 0s 4ms/step - loss: 0.3655 - accuracy: 0.8316 - val_loss: 0.4423 - val_accuracy: 0.7827\n",
      "Epoch 59/100\n",
      "79/79 [==============================] - 0s 4ms/step - loss: 0.3646 - accuracy: 0.8243 - val_loss: 0.4437 - val_accuracy: 0.7777\n",
      "Epoch 60/100\n",
      "79/79 [==============================] - 0s 5ms/step - loss: 0.3766 - accuracy: 0.8270 - val_loss: 0.4467 - val_accuracy: 0.7736\n",
      "Epoch 61/100\n",
      "79/79 [==============================] - 0s 4ms/step - loss: 0.3695 - accuracy: 0.8327 - val_loss: 0.4453 - val_accuracy: 0.7777\n",
      "Epoch 62/100\n",
      "79/79 [==============================] - 0s 4ms/step - loss: 0.3584 - accuracy: 0.8384 - val_loss: 0.4444 - val_accuracy: 0.7766\n",
      "Epoch 63/100\n",
      "79/79 [==============================] - 0s 4ms/step - loss: 0.3668 - accuracy: 0.8318 - val_loss: 0.4459 - val_accuracy: 0.7766\n",
      "Epoch 64/100\n",
      "79/79 [==============================] - 0s 4ms/step - loss: 0.3634 - accuracy: 0.8318 - val_loss: 0.4469 - val_accuracy: 0.7756\n",
      "Epoch 65/100\n",
      "79/79 [==============================] - 0s 4ms/step - loss: 0.3663 - accuracy: 0.8312 - val_loss: 0.4464 - val_accuracy: 0.7797\n",
      "Epoch 66/100\n",
      "79/79 [==============================] - 0s 4ms/step - loss: 0.3593 - accuracy: 0.8355 - val_loss: 0.4491 - val_accuracy: 0.7695\n",
      "Epoch 67/100\n",
      "79/79 [==============================] - 0s 4ms/step - loss: 0.3707 - accuracy: 0.8302 - val_loss: 0.4497 - val_accuracy: 0.7736\n",
      "Epoch 68/100\n",
      "79/79 [==============================] - 0s 4ms/step - loss: 0.3620 - accuracy: 0.8365 - val_loss: 0.4493 - val_accuracy: 0.7716\n",
      "Epoch 69/100\n",
      "79/79 [==============================] - 0s 4ms/step - loss: 0.3664 - accuracy: 0.8352 - val_loss: 0.4512 - val_accuracy: 0.7787\n",
      "Epoch 70/100\n",
      "79/79 [==============================] - 0s 4ms/step - loss: 0.3650 - accuracy: 0.8303 - val_loss: 0.4490 - val_accuracy: 0.7766\n",
      "Epoch 71/100\n",
      "79/79 [==============================] - 0s 4ms/step - loss: 0.3741 - accuracy: 0.8267 - val_loss: 0.4507 - val_accuracy: 0.7706\n",
      "Epoch 72/100\n",
      "79/79 [==============================] - 0s 4ms/step - loss: 0.3686 - accuracy: 0.8314 - val_loss: 0.4546 - val_accuracy: 0.7726\n",
      "Epoch 73/100\n",
      "79/79 [==============================] - 0s 4ms/step - loss: 0.3550 - accuracy: 0.8355 - val_loss: 0.4581 - val_accuracy: 0.7797\n",
      "Epoch 74/100\n",
      "79/79 [==============================] - 0s 4ms/step - loss: 0.3566 - accuracy: 0.8271 - val_loss: 0.4544 - val_accuracy: 0.7787\n",
      "Epoch 75/100\n",
      "79/79 [==============================] - 0s 4ms/step - loss: 0.3540 - accuracy: 0.8418 - val_loss: 0.4537 - val_accuracy: 0.7675\n",
      "Epoch 76/100\n",
      "79/79 [==============================] - 0s 4ms/step - loss: 0.3620 - accuracy: 0.8229 - val_loss: 0.4523 - val_accuracy: 0.7706\n",
      "Epoch 77/100\n",
      "79/79 [==============================] - 0s 4ms/step - loss: 0.3562 - accuracy: 0.8412 - val_loss: 0.4535 - val_accuracy: 0.7695\n",
      "Epoch 78/100\n",
      "79/79 [==============================] - 0s 4ms/step - loss: 0.3470 - accuracy: 0.8414 - val_loss: 0.4545 - val_accuracy: 0.7797\n",
      "Epoch 79/100\n",
      "79/79 [==============================] - 0s 4ms/step - loss: 0.3726 - accuracy: 0.8184 - val_loss: 0.4564 - val_accuracy: 0.7756\n",
      "Epoch 80/100\n",
      "79/79 [==============================] - 0s 4ms/step - loss: 0.3672 - accuracy: 0.8283 - val_loss: 0.4561 - val_accuracy: 0.7756\n",
      "Epoch 81/100\n",
      "79/79 [==============================] - 0s 4ms/step - loss: 0.3378 - accuracy: 0.8520 - val_loss: 0.4560 - val_accuracy: 0.7695\n",
      "Epoch 82/100\n",
      "79/79 [==============================] - 0s 4ms/step - loss: 0.3470 - accuracy: 0.8371 - val_loss: 0.4589 - val_accuracy: 0.7706\n",
      "Epoch 83/100\n",
      "79/79 [==============================] - 0s 4ms/step - loss: 0.3537 - accuracy: 0.8358 - val_loss: 0.4571 - val_accuracy: 0.7695\n",
      "Epoch 84/100\n",
      "79/79 [==============================] - 0s 4ms/step - loss: 0.3562 - accuracy: 0.8313 - val_loss: 0.4587 - val_accuracy: 0.7716\n",
      "Epoch 85/100\n",
      "79/79 [==============================] - 0s 4ms/step - loss: 0.3544 - accuracy: 0.8379 - val_loss: 0.4603 - val_accuracy: 0.7736\n",
      "Epoch 86/100\n",
      "79/79 [==============================] - 0s 4ms/step - loss: 0.3547 - accuracy: 0.8350 - val_loss: 0.4633 - val_accuracy: 0.7695\n",
      "Epoch 87/100\n",
      "79/79 [==============================] - 0s 4ms/step - loss: 0.3527 - accuracy: 0.8338 - val_loss: 0.4611 - val_accuracy: 0.7756\n",
      "Epoch 88/100\n",
      "79/79 [==============================] - 0s 4ms/step - loss: 0.3397 - accuracy: 0.8359 - val_loss: 0.4607 - val_accuracy: 0.7746\n",
      "Epoch 89/100\n",
      "79/79 [==============================] - 0s 4ms/step - loss: 0.3500 - accuracy: 0.8373 - val_loss: 0.4624 - val_accuracy: 0.7766\n",
      "Epoch 90/100\n",
      "79/79 [==============================] - 0s 4ms/step - loss: 0.3430 - accuracy: 0.8432 - val_loss: 0.4633 - val_accuracy: 0.7746\n",
      "Epoch 91/100\n",
      "79/79 [==============================] - 0s 4ms/step - loss: 0.3501 - accuracy: 0.8308 - val_loss: 0.4649 - val_accuracy: 0.7716\n",
      "Epoch 92/100\n",
      "79/79 [==============================] - 0s 4ms/step - loss: 0.3474 - accuracy: 0.8383 - val_loss: 0.4628 - val_accuracy: 0.7716\n",
      "Epoch 93/100\n",
      "79/79 [==============================] - 0s 4ms/step - loss: 0.3489 - accuracy: 0.8413 - val_loss: 0.4637 - val_accuracy: 0.7655\n",
      "Epoch 94/100\n",
      "79/79 [==============================] - 0s 4ms/step - loss: 0.3497 - accuracy: 0.8282 - val_loss: 0.4663 - val_accuracy: 0.7716\n",
      "Epoch 95/100\n",
      "79/79 [==============================] - 0s 4ms/step - loss: 0.3508 - accuracy: 0.8369 - val_loss: 0.4671 - val_accuracy: 0.7716\n",
      "Epoch 96/100\n",
      "79/79 [==============================] - 0s 4ms/step - loss: 0.3550 - accuracy: 0.8328 - val_loss: 0.4676 - val_accuracy: 0.7766\n",
      "Epoch 97/100\n",
      "79/79 [==============================] - 0s 4ms/step - loss: 0.3463 - accuracy: 0.8368 - val_loss: 0.4677 - val_accuracy: 0.7736\n",
      "Epoch 98/100\n",
      "79/79 [==============================] - 0s 4ms/step - loss: 0.3416 - accuracy: 0.8444 - val_loss: 0.4679 - val_accuracy: 0.7736\n",
      "Epoch 99/100\n",
      "79/79 [==============================] - 0s 4ms/step - loss: 0.3507 - accuracy: 0.8379 - val_loss: 0.4721 - val_accuracy: 0.7766\n",
      "Epoch 100/100\n",
      "79/79 [==============================] - 0s 5ms/step - loss: 0.3515 - accuracy: 0.8378 - val_loss: 0.4714 - val_accuracy: 0.7716\n"
     ]
    }
   ],
   "source": [
    "epochs_hist = model.fit(X_train, y_train, epochs = 100, batch_size = 50, validation_split = 0.2)"
   ]
  },
  {
   "cell_type": "code",
   "execution_count": 38,
   "metadata": {
    "colab": {
     "base_uri": "https://localhost:8080/"
    },
    "id": "XsI0f5_ZUSH7",
    "outputId": "f002fcf3-8ba4-4f10-9b3b-4c3f962832c2"
   },
   "outputs": [
    {
     "name": "stdout",
     "output_type": "stream",
     "text": [
      "66/66 [==============================] - 0s 2ms/step - loss: 0.4550 - accuracy: 0.7867\n",
      "[0.45497605204582214, 0.7867298722267151]\n"
     ]
    }
   ],
   "source": [
    "print(model.evaluate(X_test, y_test))"
   ]
  },
  {
   "cell_type": "markdown",
   "metadata": {
    "id": "5UQ9MfCIVzWJ"
   },
   "source": [
    "**Predicting the output and printing the Classification Report**"
   ]
  },
  {
   "cell_type": "code",
   "execution_count": 39,
   "metadata": {
    "colab": {
     "base_uri": "https://localhost:8080/"
    },
    "id": "7ZPSOTkXUoFQ",
    "outputId": "2aa2aeac-6147-4780-8e5f-22167eea6c31"
   },
   "outputs": [
    {
     "name": "stdout",
     "output_type": "stream",
     "text": [
      "Classification Report: \n",
      "               precision    recall  f1-score   support\n",
      "\n",
      "           0       0.83      0.90      0.86      1549\n",
      "           1       0.63      0.48      0.54       561\n",
      "\n",
      "    accuracy                           0.79      2110\n",
      "   macro avg       0.73      0.69      0.70      2110\n",
      "weighted avg       0.77      0.79      0.78      2110\n",
      "\n"
     ]
    }
   ],
   "source": [
    "y_preds = model.predict(X_test)\n",
    "y_preds = np.round(y_preds)\n",
    "    \n",
    "print(\"Classification Report: \\n\", classification_report(y_test, y_preds))"
   ]
  },
  {
   "cell_type": "code",
   "execution_count": 43,
   "metadata": {
    "id": "7TWwylMNiOGG"
   },
   "outputs": [],
   "source": [
    "yp = model.predict(X_test)\n",
    "y_pred = []\n",
    "for element in yp:\n",
    "  if element > 0.5:\n",
    "    y_pred.append(1)\n",
    "  else:\n",
    "    y_pred.append(0)"
   ]
  },
  {
   "cell_type": "markdown",
   "metadata": {
    "id": "74TjfWO5oFWq"
   },
   "source": [
    "Confusion Matrix"
   ]
  },
  {
   "cell_type": "code",
   "execution_count": 45,
   "metadata": {
    "colab": {
     "base_uri": "https://localhost:8080/",
     "height": 460
    },
    "id": "Yjteem9Shw49",
    "outputId": "6b815bc2-005a-4305-f916-2792623eabdf"
   },
   "outputs": [
    {
     "data": {
      "text/plain": [
       "Text(69.0, 0.5, 'Truth')"
      ]
     },
     "execution_count": 45,
     "metadata": {
      "tags": []
     },
     "output_type": "execute_result"
    },
    {
     "data": {
      "image/png": "[encoded data removed]",
      "text/plain": [
       "<Figure size 720x504 with 2 Axes>"
      ]
     },
     "metadata": {
      "needs_background": "light",
      "tags": []
     },
     "output_type": "display_data"
    }
   ],
   "source": [
    "cm = tf.math.confusion_matrix(labels = y_test, predictions = y_pred)\n",
    "\n",
    "plt.figure(figsize = (10, 7))\n",
    "sns.heatmap(cm, annot = True, fmt = 'd')\n",
    "plt.xlabel('Predicted')\n",
    "plt.ylabel('Truth')"
   ]
  },
  {
   "cell_type": "markdown",
   "metadata": {
    "id": "2JXlKjINXGDd"
   },
   "source": [
    "**Optimising The Model**"
   ]
  },
  {
   "cell_type": "code",
   "execution_count": 46,
   "metadata": {
    "colab": {
     "base_uri": "https://localhost:8080/"
    },
    "id": "XWsi3lgt9hUy",
    "outputId": "2e9f0d08-efa4-4bb9-fc16-031092c5c192"
   },
   "outputs": [
    {
     "data": {
      "text/plain": [
       "0    5163\n",
       "1    1869\n",
       "Name: Churn, dtype: int64"
      ]
     },
     "execution_count": 46,
     "metadata": {
      "tags": []
     },
     "output_type": "execute_result"
    }
   ],
   "source": [
    "df2.Churn.value_counts()"
   ]
  },
  {
   "cell_type": "markdown",
   "metadata": {
    "id": "Zt2PYRbRbnl3"
   },
   "source": [
    "**Handling The Imbalanced Dataset**"
   ]
  },
  {
   "cell_type": "markdown",
   "metadata": {
    "id": "hbz6jZmm9pcr"
   },
   "source": [
    "So, we can see that data is imbalanced. Using SMOTE technique to handle the imbalanced dataset"
   ]
  },
  {
   "cell_type": "code",
   "execution_count": 47,
   "metadata": {
    "colab": {
     "base_uri": "https://localhost:8080/"
    },
    "id": "lVBuNpAV93O3",
    "outputId": "ddf569a0-3ead-4fca-d8b0-39d47751e069"
   },
   "outputs": [
    {
     "name": "stdout",
     "output_type": "stream",
     "text": [
      "Requirement already satisfied: imbalanced-learn in /usr/local/lib/python3.7/dist-packages (0.4.3)\n",
      "Requirement already satisfied: numpy>=1.8.2 in /usr/local/lib/python3.7/dist-packages (from imbalanced-learn) (1.19.5)\n",
      "Requirement already satisfied: scipy>=0.13.3 in /usr/local/lib/python3.7/dist-packages (from imbalanced-learn) (1.4.1)\n",
      "Requirement already satisfied: scikit-learn>=0.20 in /usr/local/lib/python3.7/dist-packages (from imbalanced-learn) (0.22.2.post1)\n",
      "Requirement already satisfied: joblib>=0.11 in /usr/local/lib/python3.7/dist-packages (from scikit-learn>=0.20->imbalanced-learn) (1.0.1)\n"
     ]
    }
   ],
   "source": [
    "!pip install imbalanced-learn"
   ]
  },
  {
   "cell_type": "code",
   "execution_count": 48,
   "metadata": {
    "colab": {
     "base_uri": "https://localhost:8080/"
    },
    "id": "2F8qXpnc-BL9",
    "outputId": "742b3dfe-50f7-4368-c4e8-aa614e05e122"
   },
   "outputs": [
    {
     "name": "stderr",
     "output_type": "stream",
     "text": [
      "/usr/local/lib/python3.7/dist-packages/sklearn/externals/six.py:31: FutureWarning: The module is deprecated in version 0.21 and will be removed in version 0.23 since we've dropped support for Python 2.7. Please rely on the official version of six (https://pypi.org/project/six/).\n",
      "  \"(https://pypi.org/project/six/).\", FutureWarning)\n",
      "/usr/local/lib/python3.7/dist-packages/sklearn/utils/deprecation.py:144: FutureWarning: The sklearn.neighbors.base module is  deprecated in version 0.22 and will be removed in version 0.24. The corresponding classes / functions should instead be imported from sklearn.neighbors. Anything that cannot be imported from sklearn.neighbors is now part of the private API.\n",
      "  warnings.warn(message, FutureWarning)\n",
      "/usr/local/lib/python3.7/dist-packages/sklearn/utils/deprecation.py:87: FutureWarning: Function safe_indexing is deprecated; safe_indexing is deprecated in version 0.22 and will be removed in version 0.24.\n",
      "  warnings.warn(msg, category=FutureWarning)\n"
     ]
    }
   ],
   "source": [
    "from imblearn.over_sampling import SMOTE\n",
    "\n",
    "smote = SMOTE(sampling_strategy='minority')\n",
    "X_sm, y_sm = smote.fit_sample(X, y)"
   ]
  },
  {
   "cell_type": "code",
   "execution_count": 49,
   "metadata": {
    "colab": {
     "base_uri": "https://localhost:8080/"
    },
    "id": "QG-_wxOn-xhw",
    "outputId": "0bfb8646-cb05-4c45-c07e-12b0ef159ed5"
   },
   "outputs": [
    {
     "data": {
      "text/plain": [
       "10326"
      ]
     },
     "execution_count": 49,
     "metadata": {
      "tags": []
     },
     "output_type": "execute_result"
    }
   ],
   "source": [
    "len(y_sm)"
   ]
  },
  {
   "cell_type": "markdown",
   "metadata": {
    "id": "V2Rgtc9c_LV3"
   },
   "source": [
    "Performing the Train Test split again"
   ]
  },
  {
   "cell_type": "code",
   "execution_count": 50,
   "metadata": {
    "id": "T1FvSxoP_TcU"
   },
   "outputs": [],
   "source": [
    "X_train, X_test, y_train, y_test = train_test_split(X_sm, y_sm, test_size=0.3, random_state=15, stratify=y_sm)"
   ]
  },
  {
   "cell_type": "code",
   "execution_count": 51,
   "metadata": {
    "colab": {
     "base_uri": "https://localhost:8080/"
    },
    "id": "qnhL7-yxcQ77",
    "outputId": "3d33c392-7aaa-4d24-ace5-9588d60d0d4c"
   },
   "outputs": [
    {
     "name": "stdout",
     "output_type": "stream",
     "text": [
      "(7228, 26) (3098, 26)\n"
     ]
    }
   ],
   "source": [
    "print(X_train.shape, X_test.shape)"
   ]
  },
  {
   "cell_type": "code",
   "execution_count": 52,
   "metadata": {
    "colab": {
     "base_uri": "https://localhost:8080/"
    },
    "id": "0CtaPhA4cZ4W",
    "outputId": "02a97a1e-b19f-48ab-d99b-8203c8977ace"
   },
   "outputs": [
    {
     "name": "stdout",
     "output_type": "stream",
     "text": [
      "(7228,) (3098,)\n"
     ]
    }
   ],
   "source": [
    "print(y_train.shape, y_test.shape)"
   ]
  },
  {
   "cell_type": "markdown",
   "metadata": {
    "id": "1cOspSeTXgmO"
   },
   "source": [
    "Retraining the Model"
   ]
  },
  {
   "cell_type": "code",
   "execution_count": 53,
   "metadata": {
    "colab": {
     "base_uri": "https://localhost:8080/"
    },
    "id": "JEOeAroNcmnq",
    "outputId": "a8f0b87d-f27b-4ba9-9fba-c76232e4f47e"
   },
   "outputs": [
    {
     "name": "stdout",
     "output_type": "stream",
     "text": [
      "Model: \"sequential_1\"\n",
      "_________________________________________________________________\n",
      "Layer (type)                 Output Shape              Param #   \n",
      "=================================================================\n",
      "dense_3 (Dense)              (None, 26)                702       \n",
      "_________________________________________________________________\n",
      "dense_4 (Dense)              (None, 15)                405       \n",
      "_________________________________________________________________\n",
      "dense_5 (Dense)              (None, 1)                 16        \n",
      "=================================================================\n",
      "Total params: 1,123\n",
      "Trainable params: 1,123\n",
      "Non-trainable params: 0\n",
      "_________________________________________________________________\n"
     ]
    }
   ],
   "source": [
    "model = keras.Sequential([\n",
    "    keras.layers.Dense(26, input_shape=(26,), activation='relu'),\n",
    "    keras.layers.Dense(15, activation='relu'),\n",
    "    keras.layers.Dense(1, activation='sigmoid')\n",
    "])\n",
    "\n",
    "model.summary()"
   ]
  },
  {
   "cell_type": "code",
   "execution_count": 54,
   "metadata": {
    "id": "B0DSJl8wACel"
   },
   "outputs": [],
   "source": [
    "# opt = keras.optimizers.Adam(learning_rate=0.01)\n",
    "model.compile(optimizer='adam',\n",
    "              loss='binary_crossentropy',\n",
    "              metrics=['accuracy'])"
   ]
  },
  {
   "cell_type": "code",
   "execution_count": 55,
   "metadata": {
    "id": "Y3dLo4lOAcLy"
   },
   "outputs": [],
   "source": [
    "from keras.callbacks import  EarlyStopping, LearningRateScheduler, ReduceLROnPlateau, ModelCheckpoint"
   ]
  },
  {
   "cell_type": "markdown",
   "metadata": {
    "id": "LofoMU9wmbdJ"
   },
   "source": [
    "Using EarlyStopping"
   ]
  },
  {
   "cell_type": "code",
   "execution_count": 56,
   "metadata": {
    "id": "d5-P6M2wAGKP"
   },
   "outputs": [],
   "source": [
    "callback_list = [\n",
    "                 EarlyStopping(monitor = 'accuracy', patience = 2),\n",
    "                 ReduceLROnPlateau(monitor = 'loss', factor = 0.1, patience = 1)\n",
    "]"
   ]
  },
  {
   "cell_type": "markdown",
   "metadata": {
    "id": "tkLSwWCsmncP"
   },
   "source": [
    "**Fitting the Model**"
   ]
  },
  {
   "cell_type": "code",
   "execution_count": 57,
   "metadata": {
    "colab": {
     "base_uri": "https://localhost:8080/"
    },
    "id": "clf8ckmaAO_w",
    "outputId": "fe8df913-1229-4af3-82ae-65c30ace8d43"
   },
   "outputs": [
    {
     "name": "stdout",
     "output_type": "stream",
     "text": [
      "Epoch 1/100\n",
      "723/723 [==============================] - 3s 4ms/step - loss: 0.5624 - accuracy: 0.7124 - val_loss: 0.4958 - val_accuracy: 0.7628\n",
      "Epoch 2/100\n",
      "723/723 [==============================] - 2s 3ms/step - loss: 0.4581 - accuracy: 0.7935 - val_loss: 0.4907 - val_accuracy: 0.7455\n",
      "Epoch 3/100\n",
      "723/723 [==============================] - 2s 3ms/step - loss: 0.4625 - accuracy: 0.7806 - val_loss: 0.4790 - val_accuracy: 0.7635\n",
      "Epoch 4/100\n",
      "723/723 [==============================] - 2s 3ms/step - loss: 0.4602 - accuracy: 0.7884 - val_loss: 0.4754 - val_accuracy: 0.7628\n",
      "Epoch 5/100\n",
      "723/723 [==============================] - 3s 4ms/step - loss: 0.4450 - accuracy: 0.7967 - val_loss: 0.4733 - val_accuracy: 0.7656\n",
      "Epoch 6/100\n",
      "723/723 [==============================] - 2s 3ms/step - loss: 0.4507 - accuracy: 0.7946 - val_loss: 0.4712 - val_accuracy: 0.7663\n",
      "Epoch 7/100\n",
      "723/723 [==============================] - 2s 3ms/step - loss: 0.4470 - accuracy: 0.7926 - val_loss: 0.4740 - val_accuracy: 0.7683\n",
      "Epoch 8/100\n",
      "723/723 [==============================] - 3s 3ms/step - loss: 0.4463 - accuracy: 0.7905 - val_loss: 0.4749 - val_accuracy: 0.7697\n",
      "Epoch 9/100\n",
      "723/723 [==============================] - 2s 3ms/step - loss: 0.4352 - accuracy: 0.7956 - val_loss: 0.4710 - val_accuracy: 0.7656\n",
      "Epoch 10/100\n",
      "723/723 [==============================] - 2s 3ms/step - loss: 0.4293 - accuracy: 0.8047 - val_loss: 0.4693 - val_accuracy: 0.7600\n",
      "Epoch 11/100\n",
      "723/723 [==============================] - 2s 3ms/step - loss: 0.4328 - accuracy: 0.7984 - val_loss: 0.4751 - val_accuracy: 0.7704\n",
      "Epoch 12/100\n",
      "723/723 [==============================] - 2s 3ms/step - loss: 0.4305 - accuracy: 0.8009 - val_loss: 0.4695 - val_accuracy: 0.7697\n",
      "Epoch 13/100\n",
      "723/723 [==============================] - 2s 3ms/step - loss: 0.4296 - accuracy: 0.7992 - val_loss: 0.4684 - val_accuracy: 0.7725\n",
      "Epoch 14/100\n",
      "723/723 [==============================] - 2s 3ms/step - loss: 0.4244 - accuracy: 0.8029 - val_loss: 0.4739 - val_accuracy: 0.7642\n",
      "Epoch 15/100\n",
      "723/723 [==============================] - 2s 3ms/step - loss: 0.4091 - accuracy: 0.8171 - val_loss: 0.4758 - val_accuracy: 0.7538\n",
      "Epoch 16/100\n",
      "723/723 [==============================] - 2s 3ms/step - loss: 0.4294 - accuracy: 0.8037 - val_loss: 0.4689 - val_accuracy: 0.7635\n",
      "Epoch 17/100\n",
      "723/723 [==============================] - 3s 3ms/step - loss: 0.4270 - accuracy: 0.8017 - val_loss: 0.4716 - val_accuracy: 0.7766\n",
      "Epoch 18/100\n",
      "723/723 [==============================] - 2s 3ms/step - loss: 0.4301 - accuracy: 0.8035 - val_loss: 0.4665 - val_accuracy: 0.7704\n",
      "Epoch 19/100\n",
      "723/723 [==============================] - 2s 3ms/step - loss: 0.4198 - accuracy: 0.8065 - val_loss: 0.4727 - val_accuracy: 0.7635\n",
      "Epoch 20/100\n",
      "723/723 [==============================] - 2s 3ms/step - loss: 0.4153 - accuracy: 0.8152 - val_loss: 0.4690 - val_accuracy: 0.7746\n",
      "Epoch 21/100\n",
      "723/723 [==============================] - 2s 3ms/step - loss: 0.4101 - accuracy: 0.8098 - val_loss: 0.4731 - val_accuracy: 0.7725\n",
      "Epoch 22/100\n",
      "723/723 [==============================] - 2s 3ms/step - loss: 0.4157 - accuracy: 0.8168 - val_loss: 0.4699 - val_accuracy: 0.7718\n"
     ]
    }
   ],
   "source": [
    "history = model.fit(X_train, y_train, callbacks = callback_list, batch_size = 8, epochs = 100, validation_split = 0.2)"
   ]
  },
  {
   "cell_type": "markdown",
   "metadata": {
    "id": "s7GJQgEAm3eM"
   },
   "source": [
    "**Classification Report**"
   ]
  },
  {
   "cell_type": "code",
   "execution_count": 58,
   "metadata": {
    "colab": {
     "base_uri": "https://localhost:8080/"
    },
    "id": "ZyNSrg2qubTe",
    "outputId": "578e097a-dbf5-45d4-8580-76a9ce0ba79f"
   },
   "outputs": [
    {
     "name": "stdout",
     "output_type": "stream",
     "text": [
      "97/97 [==============================] - 0s 2ms/step - loss: 0.4697 - accuracy: 0.7718\n",
      "[0.4697466194629669, 0.7717882394790649]\n",
      "Classification Report: \n",
      "               precision    recall  f1-score   support\n",
      "\n",
      "           0       0.79      0.75      0.77      1549\n",
      "           1       0.76      0.80      0.78      1549\n",
      "\n",
      "    accuracy                           0.77      3098\n",
      "   macro avg       0.77      0.77      0.77      3098\n",
      "weighted avg       0.77      0.77      0.77      3098\n",
      "\n"
     ]
    }
   ],
   "source": [
    "print(model.evaluate(X_test, y_test))\n",
    "    \n",
    "y_preds = model.predict(X_test)\n",
    "y_preds = np.round(y_preds)\n",
    "    \n",
    "print(\"Classification Report: \\n\", classification_report(y_test, y_preds))"
   ]
  },
  {
   "cell_type": "markdown",
   "metadata": {
    "id": "Y-Di33TYnXn9"
   },
   "source": [
    "**We can see that f1-score has increased**"
   ]
  },
  {
   "cell_type": "markdown",
   "metadata": {
    "id": "cKs42pzjnCRY"
   },
   "source": [
    "Visualising the models rate of accuracy and loss"
   ]
  },
  {
   "cell_type": "code",
   "execution_count": 59,
   "metadata": {
    "colab": {
     "base_uri": "https://localhost:8080/",
     "height": 545
    },
    "id": "oBTaUge-BMRU",
    "outputId": "062424a5-9134-471e-f858-7b7764be755b"
   },
   "outputs": [
    {
     "data": {
      "image/png": "[encoded data removed]",
      "text/plain": [
       "<Figure size 432x288 with 1 Axes>"
      ]
     },
     "metadata": {
      "needs_background": "light",
      "tags": []
     },
     "output_type": "display_data"
    },
    {
     "data": {
      "image/png": "[encoded data removed]",
      "text/plain": [
       "<Figure size 432x288 with 1 Axes>"
      ]
     },
     "metadata": {
      "needs_background": "light",
      "tags": []
     },
     "output_type": "display_data"
    }
   ],
   "source": [
    "acc = history.history['accuracy']\n",
    "val_acc = history.history['val_accuracy']\n",
    "loss = history.history['loss']\n",
    "val_loss = history.history['val_loss']\n",
    "epochs = range(1, len(acc)+1)\n",
    "\n",
    "plt.figure()\n",
    "\n",
    "plt.plot(epochs, acc, 'bo', label='Train Acc')\n",
    "plt.plot(epochs, val_acc, 'b', label='Val Acc')\n",
    "plt.title('Training and validation Acc')\n",
    "plt.legend()\n",
    "\n",
    "plt.figure()\n",
    "\n",
    "plt.plot(epochs, loss, 'bo', label='Train Loss')\n",
    "plt.plot(epochs, val_loss, 'b', label='Val Loss')\n",
    "plt.title('Training and validation Loss')\n",
    "plt.legend()\n",
    "\n",
    "plt.show()"
   ]
  },
  {
   "cell_type": "code",
   "execution_count": 60,
   "metadata": {
    "id": "R9R1OcvsyIMj"
   },
   "outputs": [],
   "source": [
    "yp = model.predict(X_test)"
   ]
  },
  {
   "cell_type": "code",
   "execution_count": 61,
   "metadata": {
    "colab": {
     "base_uri": "https://localhost:8080/"
    },
    "id": "kvlKLanvyuCk",
    "outputId": "996edf6e-9c73-4567-8f07-fac97d023131"
   },
   "outputs": [
    {
     "data": {
      "text/plain": [
       "array([[0.7152356 ],\n",
       "       [0.31663406],\n",
       "       [0.01674419],\n",
       "       [0.02605101],\n",
       "       [0.747848  ]], dtype=float32)"
      ]
     },
     "execution_count": 61,
     "metadata": {
      "tags": []
     },
     "output_type": "execute_result"
    }
   ],
   "source": [
    "yp[:5]"
   ]
  },
  {
   "cell_type": "code",
   "execution_count": 62,
   "metadata": {
    "id": "IMF27MUjyxc9"
   },
   "outputs": [],
   "source": [
    "y_pred = []\n",
    "for element in yp:\n",
    "  if element > 0.5:\n",
    "    y_pred.append(1)\n",
    "  else:\n",
    "    y_pred.append(0)"
   ]
  },
  {
   "cell_type": "code",
   "execution_count": 63,
   "metadata": {
    "colab": {
     "base_uri": "https://localhost:8080/"
    },
    "id": "jpbfdaX-zIsp",
    "outputId": "468b8b1d-ade4-4886-ac69-5faecaea1172"
   },
   "outputs": [
    {
     "data": {
      "text/plain": [
       "[1, 0, 0, 0, 1, 0, 1, 1, 1, 0]"
      ]
     },
     "execution_count": 63,
     "metadata": {
      "tags": []
     },
     "output_type": "execute_result"
    }
   ],
   "source": [
    "y_pred[:10]"
   ]
  },
  {
   "cell_type": "code",
   "execution_count": 64,
   "metadata": {
    "colab": {
     "base_uri": "https://localhost:8080/"
    },
    "id": "I5Yh7GS4zPXf",
    "outputId": "d5407eb8-8321-450b-e7ca-b18cc8c62dfc"
   },
   "outputs": [
    {
     "data": {
      "text/plain": [
       "array([1, 0, 0, 0, 0, 0, 1, 0, 1, 1])"
      ]
     },
     "execution_count": 64,
     "metadata": {
      "tags": []
     },
     "output_type": "execute_result"
    }
   ],
   "source": [
    "y_test[:10]"
   ]
  },
  {
   "cell_type": "markdown",
   "metadata": {
    "id": "zcZlzXsHnPX6"
   },
   "source": [
    "**Confusion Matrix**"
   ]
  },
  {
   "cell_type": "code",
   "execution_count": 65,
   "metadata": {
    "colab": {
     "base_uri": "https://localhost:8080/",
     "height": 460
    },
    "id": "qP7CvzzrztG_",
    "outputId": "e0cd60c0-4601-41a5-aaa4-fc9a96271437"
   },
   "outputs": [
    {
     "data": {
      "text/plain": [
       "Text(69.0, 0.5, 'Truth')"
      ]
     },
     "execution_count": 65,
     "metadata": {
      "tags": []
     },
     "output_type": "execute_result"
    },
    {
     "data": {
      "image/png": "[encoded data removed]",
      "text/plain": [
       "<Figure size 720x504 with 2 Axes>"
      ]
     },
     "metadata": {
      "needs_background": "light",
      "tags": []
     },
     "output_type": "display_data"
    }
   ],
   "source": [
    "import seaborn as sns\n",
    "cm = tf.math.confusion_matrix(labels = y_test, predictions = y_pred)\n",
    "\n",
    "plt.figure(figsize = (10, 7))\n",
    "sns.heatmap(cm, annot = True, fmt = 'd')\n",
    "plt.xlabel('Predicted')\n",
    "plt.ylabel('Truth')"
   ]
  },
  {
   "cell_type": "markdown",
   "metadata": {
    "id": "UsvGobxq1mCP"
   },
   "source": [
    "**Hyperparameter Tuning**"
   ]
  },
  {
   "cell_type": "code",
   "execution_count": 67,
   "metadata": {
    "colab": {
     "base_uri": "https://localhost:8080/"
    },
    "id": "MMW6e3_91rA_",
    "outputId": "b2f9a10e-fd8a-45b6-ce9c-378aa83b1381"
   },
   "outputs": [
    {
     "name": "stdout",
     "output_type": "stream",
     "text": [
      "261/261 [==============================] - 1s 3ms/step - loss: 0.5830 - accuracy: 0.7017\n"
     ]
    },
    {
     "name": "stderr",
     "output_type": "stream",
     "text": [
      "/usr/local/lib/python3.7/dist-packages/tensorflow/python/keras/engine/sequential.py:450: UserWarning: `model.predict_classes()` is deprecated and will be removed after 2021-01-01. Please use instead:* `np.argmax(model.predict(x), axis=-1)`,   if your model does multi-class classification   (e.g. if it uses a `softmax` last-layer activation).* `(model.predict(x) > 0.5).astype(\"int32\")`,   if your model does binary classification   (e.g. if it uses a `sigmoid` last-layer activation).\n",
      "  warnings.warn('`model.predict_classes()` is deprecated and '\n"
     ]
    },
    {
     "name": "stdout",
     "output_type": "stream",
     "text": [
      "261/261 [==============================] - 1s 3ms/step - loss: 0.5985 - accuracy: 0.6678\n",
      "261/261 [==============================] - 1s 3ms/step - loss: 0.6298 - accuracy: 0.6210\n",
      "261/261 [==============================] - 1s 3ms/step - loss: 0.6044 - accuracy: 0.6672\n",
      "261/261 [==============================] - 1s 3ms/step - loss: 0.6173 - accuracy: 0.6624\n",
      "261/261 [==============================] - 1s 3ms/step - loss: 0.5995 - accuracy: 0.6912\n",
      "261/261 [==============================] - 1s 3ms/step - loss: 0.5593 - accuracy: 0.7249\n",
      "261/261 [==============================] - 1s 3ms/step - loss: 0.6063 - accuracy: 0.6706\n",
      "261/261 [==============================] - 1s 3ms/step - loss: 0.5975 - accuracy: 0.6616\n",
      "261/261 [==============================] - 1s 3ms/step - loss: 0.5736 - accuracy: 0.7065\n",
      "261/261 [==============================] - 1s 3ms/step - loss: 0.5998 - accuracy: 0.6928\n",
      "261/261 [==============================] - 1s 3ms/step - loss: 0.6019 - accuracy: 0.7045\n",
      "261/261 [==============================] - 1s 3ms/step - loss: 0.6193 - accuracy: 0.6297\n",
      "261/261 [==============================] - 1s 3ms/step - loss: 0.6050 - accuracy: 0.6768\n",
      "261/261 [==============================] - 2s 3ms/step - loss: 0.5939 - accuracy: 0.6732\n",
      "261/261 [==============================] - 1s 3ms/step - loss: 0.5979 - accuracy: 0.6702\n",
      "261/261 [==============================] - 1s 3ms/step - loss: 0.6043 - accuracy: 0.6788\n",
      "261/261 [==============================] - 1s 3ms/step - loss: 0.5737 - accuracy: 0.7277\n",
      "261/261 [==============================] - 1s 3ms/step - loss: 0.5880 - accuracy: 0.6965\n",
      "261/261 [==============================] - 1s 3ms/step - loss: 0.6094 - accuracy: 0.6741\n",
      "261/261 [==============================] - 1s 3ms/step - loss: 0.6194 - accuracy: 0.6467\n",
      "261/261 [==============================] - 1s 3ms/step - loss: 0.5917 - accuracy: 0.6717\n",
      "261/261 [==============================] - 1s 3ms/step - loss: 0.5864 - accuracy: 0.7045\n",
      "261/261 [==============================] - 1s 3ms/step - loss: 0.6236 - accuracy: 0.6524\n",
      "261/261 [==============================] - 1s 3ms/step - loss: 0.5805 - accuracy: 0.6923\n",
      "261/261 [==============================] - 1s 3ms/step - loss: 0.6036 - accuracy: 0.6811\n",
      "261/261 [==============================] - 1s 3ms/step - loss: 0.5943 - accuracy: 0.6803\n",
      "261/261 [==============================] - 1s 3ms/step - loss: 0.6235 - accuracy: 0.6478\n",
      "261/261 [==============================] - 1s 3ms/step - loss: 0.5832 - accuracy: 0.7005\n",
      "261/261 [==============================] - 1s 3ms/step - loss: 0.5666 - accuracy: 0.7227\n",
      "261/261 [==============================] - 1s 3ms/step - loss: 0.5985 - accuracy: 0.6886\n",
      "261/261 [==============================] - 1s 3ms/step - loss: 0.6001 - accuracy: 0.6820\n",
      "261/261 [==============================] - 1s 3ms/step - loss: 0.6389 - accuracy: 0.6418\n",
      "261/261 [==============================] - 1s 3ms/step - loss: 0.5707 - accuracy: 0.7250\n",
      "261/261 [==============================] - 1s 3ms/step - loss: 0.5906 - accuracy: 0.6928\n",
      "261/261 [==============================] - 2s 3ms/step - loss: 0.6034 - accuracy: 0.6898\n",
      "261/261 [==============================] - 1s 3ms/step - loss: 0.6243 - accuracy: 0.6571\n",
      "261/261 [==============================] - 1s 3ms/step - loss: 0.5915 - accuracy: 0.6840\n",
      "261/261 [==============================] - 1s 3ms/step - loss: 0.5947 - accuracy: 0.6970\n",
      "261/261 [==============================] - 1s 3ms/step - loss: 0.5848 - accuracy: 0.6944\n",
      "204/204 [==============================] - 1s 3ms/step - loss: 0.6086 - accuracy: 0.6543\n",
      "204/204 [==============================] - 1s 3ms/step - loss: 0.6494 - accuracy: 0.6127\n",
      "204/204 [==============================] - 1s 3ms/step - loss: 0.6152 - accuracy: 0.6496\n",
      "204/204 [==============================] - 1s 3ms/step - loss: 0.6067 - accuracy: 0.6575\n",
      "204/204 [==============================] - 1s 3ms/step - loss: 0.6199 - accuracy: 0.6511\n",
      "204/204 [==============================] - 1s 3ms/step - loss: 0.5875 - accuracy: 0.7076\n",
      "204/204 [==============================] - 1s 3ms/step - loss: 0.6046 - accuracy: 0.6914\n",
      "204/204 [==============================] - 1s 3ms/step - loss: 0.6107 - accuracy: 0.6604\n",
      "204/204 [==============================] - 1s 3ms/step - loss: 0.5831 - accuracy: 0.7160\n",
      "204/204 [==============================] - 1s 3ms/step - loss: 0.6015 - accuracy: 0.6783\n",
      "204/204 [==============================] - 1s 3ms/step - loss: 0.5956 - accuracy: 0.6898\n",
      "204/204 [==============================] - 1s 3ms/step - loss: 0.5946 - accuracy: 0.6794\n",
      "204/204 [==============================] - 1s 3ms/step - loss: 0.5836 - accuracy: 0.7060\n",
      "204/204 [==============================] - 1s 3ms/step - loss: 0.5964 - accuracy: 0.7227\n",
      "204/204 [==============================] - 1s 3ms/step - loss: 0.6258 - accuracy: 0.6167\n",
      "204/204 [==============================] - 1s 3ms/step - loss: 0.5906 - accuracy: 0.6891\n",
      "204/204 [==============================] - 2s 3ms/step - loss: 0.5699 - accuracy: 0.7470\n",
      "204/204 [==============================] - 1s 3ms/step - loss: 0.5634 - accuracy: 0.7189\n",
      "204/204 [==============================] - 1s 3ms/step - loss: 0.6159 - accuracy: 0.6751\n",
      "204/204 [==============================] - 1s 3ms/step - loss: 0.6075 - accuracy: 0.6850\n",
      "204/204 [==============================] - 1s 3ms/step - loss: 0.5988 - accuracy: 0.6940\n",
      "204/204 [==============================] - 1s 3ms/step - loss: 0.5840 - accuracy: 0.7098\n",
      "204/204 [==============================] - 1s 3ms/step - loss: 0.6279 - accuracy: 0.6423\n",
      "204/204 [==============================] - 1s 3ms/step - loss: 0.6275 - accuracy: 0.6104\n",
      "204/204 [==============================] - 1s 3ms/step - loss: 0.5875 - accuracy: 0.7018\n",
      "204/204 [==============================] - 1s 3ms/step - loss: 0.5897 - accuracy: 0.6847\n",
      "204/204 [==============================] - 1s 3ms/step - loss: 0.6207 - accuracy: 0.6389\n",
      "204/204 [==============================] - 1s 3ms/step - loss: 0.6305 - accuracy: 0.6341\n",
      "204/204 [==============================] - 1s 3ms/step - loss: 0.5997 - accuracy: 0.6819\n",
      "204/204 [==============================] - 1s 3ms/step - loss: 0.5984 - accuracy: 0.6722\n",
      "204/204 [==============================] - 1s 3ms/step - loss: 0.5752 - accuracy: 0.7277\n",
      "204/204 [==============================] - 1s 3ms/step - loss: 0.5629 - accuracy: 0.7277\n",
      "204/204 [==============================] - 1s 3ms/step - loss: 0.6381 - accuracy: 0.6432\n",
      "204/204 [==============================] - 1s 3ms/step - loss: 0.5884 - accuracy: 0.6928\n",
      "204/204 [==============================] - 1s 3ms/step - loss: 0.6110 - accuracy: 0.6631\n",
      "204/204 [==============================] - 1s 3ms/step - loss: 0.6179 - accuracy: 0.6520\n",
      "204/204 [==============================] - 1s 3ms/step - loss: 0.5998 - accuracy: 0.6998\n",
      "204/204 [==============================] - 2s 3ms/step - loss: 0.6059 - accuracy: 0.6679\n",
      "204/204 [==============================] - 1s 3ms/step - loss: 0.6088 - accuracy: 0.6850\n",
      "204/204 [==============================] - 1s 3ms/step - loss: 0.5690 - accuracy: 0.7229\n",
      "290/290 [==============================] - 1s 3ms/step - loss: 0.5648 - accuracy: 0.7144\n",
      "{'batch_size': 25, 'nb_epoch': 500, 'optimizer': 'adam'}\n",
      "0.770888265652119\n"
     ]
    }
   ],
   "source": [
    "from keras.wrappers.scikit_learn import KerasClassifier\n",
    "from sklearn.model_selection import GridSearchCV\n",
    "from keras.models import Sequential\n",
    "from keras.layers import Dense\n",
    "\n",
    "def build_classifier(optimizer):\n",
    "    classifier = keras.Sequential([\n",
    "    keras.layers.Dense(26, input_shape=(26,), activation='relu'),\n",
    "    keras.layers.Dense(15, activation='relu'),\n",
    "    keras.layers.Dense(1, activation='sigmoid')\n",
    "    ])\n",
    "    classifier.compile(optimizer = optimizer, loss = 'binary_crossentropy', metrics = ['accuracy'])\n",
    "    return classifier\n",
    "\n",
    "classifier = KerasClassifier(build_fn = build_classifier)\n",
    "parameters = {'batch_size': [25, 32],\n",
    "              'nb_epoch': [100, 500],\n",
    "              'optimizer': ['adam', 'rmsprop']}\n",
    "grid_search = GridSearchCV(estimator = classifier,\n",
    "                           param_grid = parameters,\n",
    "                           scoring = 'accuracy',\n",
    "                           cv = 10)\n",
    "grid_search = grid_search.fit(X_train, y_train)\n",
    "best_parameters = grid_search.best_params_\n",
    "best_accuracy = grid_search.best_score_\n",
    "\n",
    "print(best_parameters)\n",
    "print(best_accuracy)"
   ]
  },
  {
   "cell_type": "code",
   "execution_count": 75,
   "metadata": {
    "colab": {
     "base_uri": "https://localhost:8080/"
    },
    "id": "lGhHi7z1i_qf",
    "outputId": "61e94617-8ca1-4871-e704-9fb6d822d1a0"
   },
   "outputs": [
    {
     "name": "stdout",
     "output_type": "stream",
     "text": [
      "124/124 [==============================] - 0s 2ms/step - loss: 0.4697 - accuracy: 0.7718\n"
     ]
    },
    {
     "data": {
      "text/plain": [
       "[0.4697466194629669, 0.7717882394790649]"
      ]
     },
     "execution_count": 75,
     "metadata": {
      "tags": []
     },
     "output_type": "execute_result"
    }
   ],
   "source": [
    "model.evaluate(\n",
    "    x = X_test, y = y_test, batch_size = 25, verbose=1, callbacks = callback_list\n",
    ")"
   ]
  },
  {
   "cell_type": "markdown",
   "metadata": {
    "id": "wBOubQNKoWF5"
   },
   "source": [
    "The dataset was imbalanced, the true cases i.e. where 'Churn' has values of 1 was less than the false cases i.e where 'Churn' has value of 0.\n",
    "\n",
    "The f1-score increased drastically on making the data balanced.\n",
    "\n",
    "The model gave an overall accuracy of 77.18%. With paramerter tuning it was able to achieve 77.08% accuracy which is approximately equal to 77.18"
   ]
  }
 ],
 "metadata": {
  "accelerator": "GPU",
  "colab": {
   "collapsed_sections": [],
   "name": "Tele Churn Prediction.ipynb",
   "provenance": []
  },
  "kernelspec": {
   "display_name": "Python 3",
   "language": "python",
   "name": "python3"
  },
  "language_info": {
   "codemirror_mode": {
    "name": "ipython",
    "version": 3
   },
   "file_extension": ".py",
   "mimetype": "text/x-python",
   "name": "python",
   "nbconvert_exporter": "python",
   "pygments_lexer": "ipython3",
   "version": "3.7.6"
  }
 },
 "nbformat": 4,
 "nbformat_minor": 1
}
